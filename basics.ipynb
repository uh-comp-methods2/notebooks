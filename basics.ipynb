{
 "cells": [
  {
   "cell_type": "markdown",
   "id": "a29a181b-001e-4737-83cf-87af4f757aa2",
   "metadata": {
    "incorrectly_encoded_metadata": "jp-MarkdownHeadingCollapsed=true"
   },
   "source": [
    "# Finite element methods: basic concepts \n",
    "\n",
    "This notebook is based on Chapter 0  of \n",
    "\n",
    "<a id=\"thebook\"></a>\n",
    "> Brenner, Susanne C. and Scott, L. Ridgway. _The mathematical theory of finite element methods_. Springer, New York, 2008. <https://doi.org/10.1007/978-0-387-75934-0> (ebook in [Helka](https://helka.helsinki.fi/permalink/358UOH_INST/1h3k2rg/alma9934192676506253))\n",
    "\n",
    "The finite element method is a widely used method for numerically solving differential equations arising in engineering and mathematical modeling. There are many commercial (e.g. [Comsol](https://en.wikipedia.org/wiki/COMSOL_Multiphysics)) and open-source (e.g. [Fenics](https://en.wikipedia.org/wiki/FEniCS_Project))  software packages implementing sophisticated versions of the method. The method is very flexible, and it can be used to solve systems of equations describing many physical phenomena, see for example this [video](https://www.comsol.com/video/joule-heating-fuse-circuit-board-chapter-1) on modeling of resistive heating in an aluminum fuse using Comsol. Rather than applying the method to complicated models, using complex and often opaque software, we will focus on the mathematics underpinning the method and use a nimble and transparent Python library [Scikit-fem](https://scikit-fem.readthedocs.io/en/latest/)."
   ]
  },
  {
   "cell_type": "markdown",
   "id": "8fc5d4fd-6a51-4198-883f-32083b910e0e",
   "metadata": {},
   "source": [
    "# Linear spaces of functions\n",
    "\n",
    "Let $a < b$ and write $F(a,b)$ for the set of functions $u : [a,b] \\to \\mathbb R$. Then $F(a,b)$ is a [vector space](https://en.wikipedia.org/wiki/Vector_space#Notation_and_definition) with respect to the usual pointwise addition and scalar muliplication\n",
    "\n",
    "$$\n",
    "+ : F(a,b) \\times F(a,b) \\to F(a,b), \\quad \\cdot : \\mathbb R \\times F(a,b) \\to F(a,b),\n",
    "$$\n",
    "\n",
    "defined for $u,v \\in F(a,b)$ and $c \\in \\mathbb R$ by\n",
    "\n",
    "$$\n",
    "(u + v)(x) = u(x) + v(x), \\quad (cu)(x) = cu(x), \\qquad x \\in [a,b].\n",
    "$$\n",
    "\n",
    "Indeed, it is easy to verify that the required 8 axioms are satisfied. For example, _associativity of vector addition_ holds since for all $u,v,w \\in F(a,b)$ there holds\n",
    "\n",
    "$$\n",
    "(u + (v + w))(x) = u(x) + (v+w)(x) = u(x) + v(x) + w(x) = ((u + v) + w)(x).\n",
    "$$\n",
    "\n",
    "The other axioms follow from the properties of real numbers in a similar manner."
   ]
  },
  {
   "cell_type": "markdown",
   "id": "1b433535-f85a-4504-b96f-3a6ed2375298",
   "metadata": {},
   "source": [
    "## Definition: space of continuous functions\n",
    ">\n",
    ">$$\n",
    "C(a,b) = \\{ u \\in F(a,b) : \\text{$u$ is continuous on $[a,b]$}\\}.\n",
    "$$\n",
    "\n",
    "We see that $C(a,b)$ is a subspace of $F(a,b)$. Indeed, the sum and product of two continuous functions are continuous, and thus $C(a,b)$ is closed under addition and scalar multiplication. \n",
    "\n",
    "## Definition: spaces of differentiable functions\n",
    ">\n",
    ">$$\n",
    "C^k(a,b) = \\{ u \\in C(a,b) : u' \\in C(a,b), \\dots, u^{(k)} \\in C(a,b)\\}, \\quad k = 1,2,\\dots.\n",
    "$$\n",
    "\n",
    "It is easy to see that $C^k(a,b)$ is a subspace of $C(a,b)$. We also write $C^0(a,b) = C(a,b)$."
   ]
  },
  {
   "cell_type": "markdown",
   "id": "779d436b-8917-45d7-9c10-3e991b329ae2",
   "metadata": {},
   "source": [
    "## Definition: space of square integrable functions\n",
    ">\n",
    ">$$\n",
    "L^2(a,b) = \\{u \\in F(a,b) : \\int_a^b |u(x)|^2 dx < \\infty \\}.\n",
    "$$\n",
    "\n",
    "This vector space can be made an [inner product space](https://en.wikipedia.org/wiki/Inner_product_space) by equipping it with the inner product \n",
    "\n",
    "$$\n",
    "(u, v) = \\int_a^b u(x) v(x) dx, \\quad (\\cdot, \\cdot) : L^2(a,b) \\times L^2(a,b) \\to \\mathbb R.\n",
    "$$\n",
    "\n",
    "To get a very nice space, [Lebesgue integration](https://en.wikipedia.org/wiki/Lebesgue_integration) should be used. We will get back to this later."
   ]
  },
  {
   "cell_type": "markdown",
   "id": "51f459c0-4b56-4df2-bb87-08e578591b4d",
   "metadata": {},
   "source": [
    "## Definition: spaces of polynomials  \n",
    ">\n",
    ">$$\n",
    "\\mathbb P_n(a, b) = \\{p \\in F(a,b) : \\text{$p$ is a polynomial of degree $\\le n$}\\}, \\quad n = 0, 1, \\dots.\n",
    "$$\n",
    "\n",
    "We can show that \n",
    "\n",
    "$$\n",
    "1, x, x^2, \\dots, x^n\n",
    "$$\n",
    "\n",
    "is a basis of $\\mathbb P_n(a, b)$. Thus $\\mathbb P_n(a, b)$ is a finite dimensional space of functions. \n",
    "\n",
    "Let $k=0,1,\\dots$. As $\\mathbb P_n(a,b) \\subset C^k(a,b)$\n",
    "for any $n$, we see that $C^k(a,b)$ is infinite dimensional,\n",
    "and so are $L^2(a,b)$ and $F(a,b)$ due to \n",
    "\n",
    "$$\n",
    "C^k(a,b) \\subset L^2(a,b) \\subset F(a,b).\n",
    "$$"
   ]
  },
  {
   "cell_type": "markdown",
   "id": "4de3d06e-8463-47e2-877a-2fdb6829b6b7",
   "metadata": {},
   "source": [
    "# Inner product spaces\n",
    "\n",
    "Let $V$ be an inner product space and write $(\\cdot, \\cdot)$ for the inner product on $V$ and $\\|\\cdot\\|$ for the norm induced by the inner product.\n",
    "\n",
    "## Lemma: Cauchy-Schwarz inequality\n",
    ">$$\n",
    "(u, v) \\le \\|u\\| \\|v\\| \\quad u,v \\in V.\n",
    "$$"
   ]
  },
  {
   "cell_type": "markdown",
   "id": "f6a0523e-a552-4c24-babd-0d2a72b210f6",
   "metadata": {},
   "source": [
    "## Lemma: orthogonality implies minimality\n",
    "> Let $u \\in V$ and let $S \\subset V$ be a subspace. Suppose that $s \\in S$ satisfies\n",
    ">\n",
    ">\\begin{align*}\n",
    "(u - s, v) = 0 \\quad \\text{for all $v \\in S$}.\n",
    "\\end{align*}\n",
    ">\n",
    "> Then $\\| u - s \\| = \\min_{v \\in S} \\| u - v \\|$.\n",
    "\n",
    "_Proof_. If $u = s$ then both the sides of the claimed equality are zero.\n",
    "Suppose now that $u \\ne s$. Let $v \\in S$. Then $v -s \\in S$ implies\n",
    "\n",
    "\\begin{align*}\n",
    "\\| u - s \\|^2 \n",
    "&= \n",
    "(u - s, u - s) \n",
    "= \n",
    "(u - s, u - v) + (u - s, v - s)\n",
    "= \n",
    "(u - s, u - v) \n",
    "\\\\&\\le \n",
    "\\| u - s \\| \\| u - v \\|.\n",
    "\\end{align*}\n",
    "\n",
    "We may divide by $\\| u - s \\|$ as $u \\ne s$. As $v \\in S$ is arbitrary, the claim follows. $\\blacksquare$"
   ]
  },
  {
   "cell_type": "markdown",
   "id": "ab8fa790-72bc-4ffc-8bcb-37a6f68cf516",
   "metadata": {},
   "source": [
    "## Example: minimal distance between point and plane\n",
    "\n",
    "Consider the case that $V = \\mathbb R^3$ and $S$ is the plane spanned by the vectors\n",
    "\n",
    "$$\n",
    "b_0 = (1,1,0), \\quad b_1 = (1,0,1).\n",
    "$$\n",
    "\n",
    "Let $u = (0,0,1)$ and let us find the closest point $s \\in S$ to $u$. \n",
    "There are $c_0, c_1 \\in \\mathbb R$ such that  \n",
    "\n",
    "$$\n",
    "s = c_0 b_0 + c_1 b_1 = B c,\n",
    "$$\n",
    "\n",
    "where $B$ is the matrix with columns $b_0$ and $b_1$ and $c$ is the vector with entries $c_0$ and $c_1$. Perhaps the most natural way to find the closest point is to solve the least squares problem to minimize $|Bc - u|^2$."
   ]
  },
  {
   "cell_type": "code",
   "execution_count": 1,
   "id": "aeca99fa-0117-4241-a388-ec35b6fb26f2",
   "metadata": {
    "init_cell": true,
    "scene__import": true
   },
   "outputs": [],
   "source": [
    "import numpy as np\n",
    "from scipy import linalg as la"
   ]
  },
  {
   "cell_type": "code",
   "execution_count": 2,
   "id": "c95925ff-b5c1-416f-a172-486bb37e44d3",
   "metadata": {
    "scene__min_dist": true
   },
   "outputs": [
    {
     "name": "stdout",
     "output_type": "stream",
     "text": [
      "s = array([ 0.33333333, -0.33333333,  0.66666667])\n"
     ]
    }
   ],
   "source": [
    "u = np.array([0, 0, 1], dtype=float)\n",
    "b0 = np.array([1, 1, 0], dtype=float)\n",
    "b1 = np.array([1, 0, 1], dtype=float)\n",
    "B = np.stack((b0, b1), axis=-1)\n",
    "c, _, _, _ = la.lstsq(B, u) \n",
    "s = B @ c\n",
    "\n",
    "print(f'{s = }')"
   ]
  },
  {
   "cell_type": "code",
   "execution_count": 3,
   "id": "30e4e869-23f1-4314-bc98-e8f238da5482",
   "metadata": {
    "init_cell": true,
    "scene__import": true
   },
   "outputs": [],
   "source": [
    "from matplotlib import pyplot as plt"
   ]
  },
  {
   "cell_type": "code",
   "execution_count": 4,
   "id": "b2ca98d0-1bb2-45e8-b081-b68ba15994a5",
   "metadata": {
    "scene__min_dist": true
   },
   "outputs": [],
   "source": [
    "def plot_vec(v, *args, o=np.zeros(3)):\n",
    "    '''Plot vector v with base point at o'''\n",
    "    w = v + o\n",
    "    plt.gca().plot([w[0], o[0]], [w[1], o[1]], [w[2], o[2]], *args)\n",
    "\n",
    "def plot_plane(v, w, ts, rs):\n",
    "    ''''Plot the piece of plane t*v + r*w with t in ts and r in rs'''\n",
    "    [Ts, Rs] = np.meshgrid(ts, rs)\n",
    "    Xs = v[0] * Ts + w[0] * Rs\n",
    "    Ys = v[1] * Ts + w[1] * Rs\n",
    "    Zs = v[2] * Ts + w[2] * Rs\n",
    "    plt.gca().plot_surface(Xs, Ys, Zs, alpha=0.5);\n",
    "\n",
    "def set_equal_aspect():\n",
    "    '''Set equal aspect ratio in all dimensions'''\n",
    "    ax3d = plt.gca()\n",
    "    wl = ax3d.get_w_lims()\n",
    "    ax3d.set_box_aspect((wl[1]-wl[0],wl[3]-wl[2],wl[5]-wl[4]))  \n",
    "    \n",
    "def hide_ticks():\n",
    "    '''Prettify plot by hiding the ticks in all axes'''\n",
    "    ax3d = plt.gca()\n",
    "    ax3d.set_xticks([])\n",
    "    ax3d.set_yticks([])\n",
    "    ax3d.set_zticks([])\n",
    "\n",
    "# Try to scale the vectors b_j and scalars c_j \n",
    "# so that the picture looks nice \n",
    "b_scale = 0.5*np.min(np.abs(c))\n",
    "c_scale = 1+3*b_scale"
   ]
  },
  {
   "cell_type": "code",
   "execution_count": 5,
   "id": "2d4a164a-2c51-4636-a52c-d3c1ee6d75d2",
   "metadata": {
    "scene__min_dist": true
   },
   "outputs": [
    {
     "data": {
      "image/png": "[encoded data removed]",
      "text/plain": [
       "<Figure size 432x288 with 1 Axes>"
      ]
     },
     "metadata": {},
     "output_type": "display_data"
    }
   ],
   "source": [
    "plt.axes(projection='3d')\n",
    "plot_vec(u, 'r')\n",
    "plot_vec(s, 'b')\n",
    "plot_vec(u - s, 'g', o=s)\n",
    "ts = [0, c_scale*c[0]]\n",
    "rs = [0, c_scale*c[1]]\n",
    "plot_plane(b0, b1, ts, rs)\n",
    "plot_vec(b_scale*b0, 'k', o=s)\n",
    "plot_vec(b_scale*b1, 'k', o=s)\n",
    "# Prettify\n",
    "set_equal_aspect()\n",
    "hide_ticks()"
   ]
  },
  {
   "cell_type": "markdown",
   "id": "0cabd11b-28b1-41ea-a38a-4fe1dcf5aba0",
   "metadata": {},
   "source": [
    "The finite element method leads to problems that are similar to the above distance minimization, but $V$ will then be an infinite dimensional vector space and the corresponding least squares problem can not be solved directly. However, $S$ will still be finite dimensional, and we will be able to form a finite square system of linear equations. As a predule, let's demonstrate this idea in the context of the above distance minimization.\n",
    "\n",
    "By the _orthogonality implies minimality_ lemma, the closest point $s$ is characterized by \n",
    "\n",
    "\\begin{align}\\tag{1}\n",
    "(s,v) = (u, v) \\quad \\text{for all $v \\in S$}.\n",
    "\\end{align}\n",
    "\n",
    "In particular, equation (1) needs to hold for $v=b_0$ and $v=b_1$.\n",
    "On the other hand, if (1) holds for $v=b_0$ and $v=b_1$ then it holds for all $v \\in S$ by taking linear combinations. Writing again $s = c_0 b_0 + c_1 b_1$, we get the following system of equations for vector $c$ with entries $c_0$ and $c_1$\n",
    "\n",
    "$$\n",
    "\\sum_{j=0}^1 c_j (b_j, b_i) = (u, b_i), \\quad i=0,1.\n",
    "$$\n",
    "\n",
    "We write $K$ for the matrix with entries $(b_i, b_j)$ and $F$ for the vector with entries $(u, b_i)$. Then (1) is equivalent with $Kc = F$."
   ]
  },
  {
   "cell_type": "code",
   "execution_count": 6,
   "id": "e1d29890-464d-4de3-87c7-ee48a7b7fd2d",
   "metadata": {
    "scene__min_dist": true
   },
   "outputs": [
    {
     "data": {
      "text/plain": [
       "True"
      ]
     },
     "execution_count": 6,
     "metadata": {},
     "output_type": "execute_result"
    }
   ],
   "source": [
    "# Assemble matrix K\n",
    "K = np.zeros((2,2))\n",
    "for i in range(2):\n",
    "    for j in range(2):\n",
    "        K[i,j] = np.dot(B[:,i], B[:,j])\n",
    "# Assemble vector F\n",
    "F = np.zeros(2)\n",
    "for i in range(2):\n",
    "    F[i] = np.dot(u, B[:,i])\n",
    "c_alt = la.solve(K, F)\n",
    "# Compare to the solution using least squares\n",
    "eps = np.finfo(float).eps # Machine epsilon\n",
    "la.norm(c_alt - c) < eps"
   ]
  },
  {
   "cell_type": "markdown",
   "id": "38a6e3a3-2388-403c-9b30-eb474dd83383",
   "metadata": {},
   "source": [
    "# A boundary value problem\n",
    "\n",
    "Let $f \\in C(0,1)$ and $u \\in C^2(0,1)$ solve the boundary value problem \n",
    "\n",
    "\\begin{align}\\tag{1}\n",
    "\\begin{cases}\n",
    "-u'' = f & \\text{on $(0,1)$},\n",
    "\\\\\n",
    "u(0) = 0 = u(1).\n",
    "\\end{cases}\\end{align}\n",
    "\n",
    "This is the one dimensional version of [Poisson's equation](https://en.wikipedia.org/wiki/Poisson's_equation). Define the linear space\n",
    "\n",
    "$$\n",
    "\\mathcal V = \\{ v \\in C^1(0,1) : v(0) = v(1) = 0 \\},\n",
    "$$\n",
    "\n",
    "and let $v \\in \\mathcal V$. Then, writing $(\\cdot, \\cdot)$ for the inner product on $L^2(0,1)$, integration by parts gives $-(u'', v) = (u', v')$. To summarize, (1) implies\n",
    "\n",
    "\\begin{align}\\tag{2}\n",
    "(u', v') = (f, v) \\quad \\text{for all $v \\in \\mathcal V$}. \n",
    "\\end{align}\n",
    "\n",
    "The opposite holds as well, that is, (2) implies (1) for $u \\in C^2(0,1)$.\n",
    "For an elementary proof, see Theorem 0.1.4 of [the book](#thebook).\n",
    "We could call (2) a weak formulation of (1), but we will reserve this term for a modification of (2) where $\\mathcal V$ is replaced by a slightly different vector space.  \n"
   ]
  },
  {
   "cell_type": "markdown",
   "id": "7e8ac579-37eb-41de-bef4-ebe7da9233c4",
   "metadata": {},
   "source": [
    "The bilinear form\n",
    "\n",
    "$$\n",
    "a(u, v) = (u', v'), \\quad a : \\mathcal V \\times \\mathcal V \\to \\mathbb R\n",
    "$$\n",
    "\n",
    "gives an inner product on $\\mathcal V$. Indeed, $a(u,u) \\ge 0$ for $u \\in \\mathcal V$, and if $a(u,u) = 0$ then $u'(x) = 0$ for all $x \\in [0,1]$.\n",
    "As $u(0) = 0$, it follows that $u(x) = 0$ for all $x \\in [0,1]$."
   ]
  },
  {
   "cell_type": "markdown",
   "id": "a0fbb3ba-0e47-47a5-8491-a3e5873855e8",
   "metadata": {},
   "source": [
    "# Galerkin method\n",
    "\n",
    "Galerkin method converts a continuous problem, commonly a weak formulation of a partial differential equation, to a discrete problem by applying linear constraints determined by finite sets of basis functions.\n",
    "\n",
    "## Theorem: Galerkin solution\n",
    "> Let $S \\subset V$ be two vector spaces.\n",
    "> Suppose that $a$ is an inner product on $V$ and that $S$ is finite dimensional. \n",
    "> Let $L : V \\to \\mathbb R$ be linear. Then there is unique $u_S \\in S$ such that \n",
    ">\n",
    ">$$\n",
    "a(u_S,v) = L(v) \\quad \\text{for all $v \\in S$}.\n",
    "$$\n",
    "\n",
    "We call $u_S$ the Galerkin solution."
   ]
  },
  {
   "cell_type": "markdown",
   "id": "b7b263d6-fa72-4ebe-a848-9a523f41e9e1",
   "metadata": {},
   "source": [
    "_Proof_. \n",
    "Let $\\phi_j$, $j=1,\\dots,n$, be a basis of $S$, and write\n",
    "\n",
    "$$\n",
    "u_S = \\sum_{j=1}^n U_j \\phi_j, \n",
    "\\quad\n",
    "K_{ij} = a(\\phi_i, \\phi_j),\n",
    "\\quad\n",
    "F_i = L(\\phi_i), \n",
    "\\qquad i,j=1,\\dots,n.\n",
    "$$\n",
    "\n",
    "Moreover, write $U$ and $F$ for the vectors with elements $U_i$ and $F_i$, and $K$ for the matrix with elements $K_{ij}$. Then\n",
    "\n",
    "$$\n",
    "a(u_S,v) = L(v) \\quad \\text{for all $v \\in S$}.\n",
    "$$\n",
    "\n",
    "is equivalent to $KU = F$. This is a square system of linear equations and existence and uniqueness of a solution $U$ are equivalent. So it is enough to show that $KU = 0$ implies $U = 0$. But $KU = 0$ is equivalent to $a(u_S, u_S) = 0$, and this again implies that $u_S = 0$ since $a$ is an inner product.\n",
    "$\\blacksquare$"
   ]
  },
  {
   "cell_type": "markdown",
   "id": "55394c4e-07d1-4b87-b8e6-2e4d2ac36d3c",
   "metadata": {},
   "source": [
    "## Lemma: Galerkin orthogonality\n",
    ">Let $S \\subset V$, $a$, and $L$ be as in the previous theorem. Suppose that $u \\in V$ satisfies\n",
    ">\n",
    ">\\begin{align*}\n",
    "a(u, v) = L(v) \\quad \\text{for all $v \\in V$}.\n",
    "\\end{align*}\n",
    ">\n",
    "> Then the Galerkin solution $u_S  \\in S$ satisfies\n",
    ">\n",
    ">$$\n",
    "a(u-u_S,v) = 0 \\quad \\text{for all $v \\in S$}.\n",
    "$$\n",
    "\n",
    "_Proof_. Simply compute\n",
    "\n",
    "$$\n",
    "a(u-u_S,v) = a(u, v) - a(u_S, v) = L(v) - L(v) = 0.\\ \\blacksquare\n",
    "$$\n"
   ]
  },
  {
   "cell_type": "markdown",
   "id": "e7dff261-a937-48d3-ad93-a892c556b4fd",
   "metadata": {},
   "source": [
    "We write $\\|u\\|_E = \\sqrt{a(u,u)}$ for the norm induced by the inner product $a$.\n",
    "Galerkin orthogonality implies the minimality:\n",
    "\n",
    "## Corollary: abstract error estimate\n",
    ">Let $S \\subset V$, $a$, and $u$ be as in the previous lemma. \n",
    "> Then the Galerkin solution $u_S \\in S$ satisfies\n",
    ">\n",
    ">$$\n",
    "\\|u-u_S\\|_E = \\min_{v \\in S} \\|u - v\\|_E.\n",
    "$$\n"
   ]
  },
  {
   "cell_type": "markdown",
   "id": "41e9a20a-4293-434b-8935-ea5d6d38a167",
   "metadata": {},
   "source": [
    "# Linear interpolating splines\n",
    "\n",
    "Recall that linear interpolation was studied in [Computational methods 1](https://github.com/uh-comp-methods1/notebooks/blob/main/interpolation/lecture.ipynb).\n",
    "\n",
    "Let $n \\ge 1$ be an integer, and let \n",
    "\n",
    "$$\n",
    "0 = x_0 < x_1 < \\dots < x_n = 1.\n",
    "$$ \n",
    "\n",
    "The _linear spline_ interpolating a function $u \\in C(0,1)$ is \n",
    "\n",
    "$$\n",
    "u_I(x) = \\frac{x - x_{i-1}}{x_i - x_{i-1}} u(x_i) + \\frac{x_{i} - x}{x_i - x_{i-1}} u(x_{i-1}), \\qquad x \\in [x_{i-1}, x_i], \\quad i = 1,\\dots,n.\n",
    "$$\n",
    "\n",
    "We see that $u_I(x_i) = u(x_i)$ for all $i=0,\\dots,n$, $u_I$ is continuous, and that $u_I$ a polynomial of first order on each subinterval. \n",
    "\n",
    "We write $\\|u\\|_{L^\\infty(a,b)} = \\sup_{x \\in [a,b]} |u(x)|$ for $a < b$."
   ]
  },
  {
   "cell_type": "markdown",
   "id": "e382d6aa-3ab8-4183-a22e-a70e08b30a5c",
   "metadata": {
    "tags": []
   },
   "source": [
    "## Theorem: linear interpolation error\n",
    ">Let $u \\in C^2(0,1)$ and let $u_I$ be the linear spline interpolating $u$ at \n",
    ">\n",
    ">\\begin{align*}\n",
    "0 = x_0 < x_1 < \\dots < x_n = 1.\n",
    "\\end{align*}\n",
    ">\n",
    ">Write $h = \\max_{i=1,\\dots,n} |x_i - x_{i-1}|$. Then \n",
    ">\n",
    ">\\begin{align*}\n",
    "\\|u - u_I\\|_{L^\\infty(0,1)} \\le \\frac18 \\|(h \\partial)^2 u\\|_{L^\\infty(0,1)}.\n",
    "\\end{align*}"
   ]
  },
  {
   "cell_type": "markdown",
   "id": "18fd7518",
   "metadata": {},
   "source": [
    "\n",
    "Moreover, it follows from the _error in differentiation theorem_ that there is $C > 0$ independent of $u$ and $h$ such that\n",
    "\n",
    "$$\n",
    "\\max_{i=1,\\dots,n}\\|(h\\partial)(u - u_I)\\|_{L^\\infty(x_{i-1}, x_i)} \\le C \\|(h \\partial)^2 u\\|_{L^\\infty(0,1)}.\n",
    "$$"
   ]
  },
  {
   "cell_type": "markdown",
   "id": "84e29091-4695-4460-87de-016641538dc7",
   "metadata": {
    "tags": []
   },
   "source": [
    "# P1 finite element\n",
    "\n",
    "## Definition: P1 basis functions on reference domain \n",
    ">\n",
    ">$$\n",
    "\\psi_0(x) \n",
    "= \\begin{cases}\n",
    "1 - x & x \\in [0,1]\n",
    "\\\\\n",
    "0 & \\text{otherwise},\n",
    "\\end{cases} \n",
    "\\qquad\n",
    "\\psi_1(x) \n",
    "= \\begin{cases}\n",
    "x & x \\in [0,1]\n",
    "\\\\\n",
    "0 & \\text{otherwise}.\n",
    "\\end{cases}  \n",
    "$$\n",
    "\n",
    "Here the reference domain means the unit interval $[0,1]$.\n",
    "Viewing $\\psi_0$ and $\\psi_1$ as functions on $[0,1]$, they form a basis of $\\mathbb P_1(0,1)$.\n",
    "Indeed, the standard basis of $\\mathbb P_1(0,1)$ is obtained as \n",
    "\n",
    "$$\n",
    "1 = \\psi_0(x) + \\psi_1(x), \\quad x = \\psi_1(x).\n",
    "$$\n"
   ]
  },
  {
   "cell_type": "code",
   "execution_count": 7,
   "id": "bda0e896-0b6d-498e-8dda-f7f333816ee5",
   "metadata": {
    "scene__plot_basis": true
   },
   "outputs": [
    {
     "data": {
      "image/png": "[encoded data removed]",
      "text/plain": [
       "<Figure size 432x288 with 1 Axes>"
      ]
     },
     "metadata": {
      "needs_background": "light"
     },
     "output_type": "display_data"
    }
   ],
   "source": [
    "def cutoff(x):\n",
    "    return (x > 0) * (x < 1)\n",
    "\n",
    "def psi0(x):\n",
    "    return cutoff(x) * (1 - x)\n",
    "def psi1(x):\n",
    "    return cutoff(x) * x\n",
    "\n",
    "xs_plot = np.linspace(-0.2,1.2, 200)\n",
    "plt.plot(xs_plot, psi0(xs_plot), 'r', label='$\\psi_0$')\n",
    "plt.plot(xs_plot, psi1(xs_plot), 'b--', label='$\\psi_1$')\n",
    "plt.legend();"
   ]
  },
  {
   "cell_type": "markdown",
   "id": "6d51f39e-7b61-4141-ab66-17c2769b9314",
   "metadata": {},
   "source": [
    "## Definition: local basis functions\n",
    ">Let \n",
    ">\n",
    ">\\begin{align*}\n",
    "0 = x_0 < x_1 < \\dots < x_n = 1,\n",
    "\\end{align*}\n",
    ">\n",
    "> write $I_e = [x_{e-1}, x_e]$, $e=1,\\dots,n$, and consider the affine function\n",
    ">\n",
    ">\\begin{align*}\n",
    "\\Phi_e : \\mathbb R \\to \\mathbb R, \\quad \\Phi_e(x) = \\frac{x - x_{e-1}}{x_e - x_{e-1}},\n",
    "\\end{align*}\n",
    ">\n",
    "> mapping $I_e$ to $[0,1]$. The local basis functions on $I_e$ are\n",
    ">\n",
    ">\\begin{align*}\n",
    "\\psi_{j,e}(x) = \\psi_j (\\Phi_e (x)), \\quad j = 0,1.\n",
    "\\end{align*}\n",
    "\n",
    "The linear spline $u_I$ can be written on $I_e$ as \n",
    "\n",
    "$$\n",
    "u_I(x) = u(x_{e-1}) \\psi_{0,e}(x) + u(x_{e}) \\psi_{1,e}(x).\n",
    "$$"
   ]
  },
  {
   "cell_type": "code",
   "execution_count": 8,
   "id": "a7f3ace7-c400-482e-bf66-fd50572c7467",
   "metadata": {
    "scene__plot_basis": true
   },
   "outputs": [
    {
     "data": {
      "image/png": "[encoded data removed]",
      "text/plain": [
       "<Figure size 432x288 with 1 Axes>"
      ]
     },
     "metadata": {
      "needs_background": "light"
     },
     "output_type": "display_data"
    },
    {
     "data": {
      "image/png": "[encoded data removed]",
      "text/plain": [
       "<Figure size 432x288 with 1 Axes>"
      ]
     },
     "metadata": {
      "needs_background": "light"
     },
     "output_type": "display_data"
    }
   ],
   "source": [
    "n = 4\n",
    "xs = np.linspace(0,1, n+1)\n",
    "\n",
    "def Phi(psi, e, x):\n",
    "    return psi((x - xs[e-1]) / (xs[e] - xs[e-1]))\n",
    "\n",
    "xs_plot = np.linspace(0,1, 200)\n",
    "for e in range(1, n+1):\n",
    "    plt.plot(xs_plot, Phi(psi0, e, xs_plot), label=f'$\\psi_0^{e}$')\n",
    "plt.gca().set_xticks(xs)\n",
    "plt.legend()\n",
    "plt.figure()\n",
    "for e in range(1, n+1):\n",
    "    plt.plot(xs_plot, Phi(psi1, e, xs_plot), label=f'$\\psi_1^{e}$')\n",
    "plt.gca().set_xticks(xs)\n",
    "plt.legend();"
   ]
  },
  {
   "cell_type": "code",
   "execution_count": 9,
   "id": "5882dff8-1714-4eb9-bbf3-0cbc34f2f6c5",
   "metadata": {
    "scene__plot_basis": true
   },
   "outputs": [
    {
     "data": {
      "image/png": "[encoded data removed]",
      "text/plain": [
       "<Figure size 432x288 with 1 Axes>"
      ]
     },
     "metadata": {
      "needs_background": "light"
     },
     "output_type": "display_data"
    }
   ],
   "source": [
    "def u(x):\n",
    "    return x * (1 - x)\n",
    "\n",
    "def uI_loc(x):\n",
    "    out = np.zeros(np.shape(x))\n",
    "    for e in range(1, n+1):\n",
    "        out += u(xs[e-1])*Phi(psi0, e, x) + u(xs[e])*Phi(psi1, e, x)\n",
    "    return out\n",
    "\n",
    "plt.plot(xs_plot, u(xs_plot), label='u')\n",
    "plt.plot(xs_plot, uI_loc(xs_plot), label='$u_I$')\n",
    "plt.gca().set_xticks(xs)\n",
    "plt.grid(axis='x')\n",
    "plt.legend();"
   ]
  },
  {
   "cell_type": "markdown",
   "id": "b18790d6-82df-435f-95da-be918d725c01",
   "metadata": {},
   "source": [
    "# Finite element method\n",
    "\n",
    "Consider the local basis functions $\\psi_{j,e}$, $j=0,1$, $e=1,\\dots,n$, for the mesh \n",
    "\n",
    "$$\n",
    "0 = x_0 < x_1 < \\dots < x_n = 1.\n",
    "$$ \n",
    "\n",
    "The corresponding global basis functions, with vanishing boundary conditions, are defined by \n",
    "\n",
    "## Definition: global basis functions\n",
    ">\n",
    ">$$\n",
    "\\phi_i(x) = \\psi_{1,i}(x) + \\psi_{0,i+1}(x), \\quad i = 1,\\dots,n-1.\n",
    "$$\n",
    "\n",
    "For $u$ satisfying $u(0) = 0 = u(1)$ there holds\n",
    "\n",
    "$$\n",
    "u_I(x) = \\sum_{i=1}^{n-1} u(x_i) \\phi_i(x).\n",
    "$$"
   ]
  },
  {
   "cell_type": "code",
   "execution_count": 10,
   "id": "5d9a7491-ec84-4986-a967-dd1b3940e155",
   "metadata": {
    "scene__plot_basis": true
   },
   "outputs": [
    {
     "data": {
      "image/png": "[encoded data removed]",
      "text/plain": [
       "<Figure size 432x288 with 1 Axes>"
      ]
     },
     "metadata": {
      "needs_background": "light"
     },
     "output_type": "display_data"
    }
   ],
   "source": [
    "def phi(i, x):\n",
    "    return Phi(psi1, i, x) + Phi(psi0, i+1, x)\n",
    "\n",
    "for i in range(1, n):\n",
    "    plt.plot(xs_plot, phi(i, xs_plot), label=f'$\\phi_{i}$')\n",
    "plt.gca().set_xticks(xs)\n",
    "plt.grid(axis='x')\n",
    "plt.legend();"
   ]
  },
  {
   "cell_type": "code",
   "execution_count": 11,
   "id": "598a2d50-44ac-4775-9fad-e9d303aa3917",
   "metadata": {
    "scene__plot_basis": true
   },
   "outputs": [
    {
     "data": {
      "image/png": "[encoded data removed]",
      "text/plain": [
       "<Figure size 432x288 with 1 Axes>"
      ]
     },
     "metadata": {
      "needs_background": "light"
     },
     "output_type": "display_data"
    }
   ],
   "source": [
    "def uI_glob(x):\n",
    "    out = np.zeros(np.shape(x))\n",
    "    for i in range(1, n):\n",
    "        out += u(xs[i]) * phi(i, x)\n",
    "    return out\n",
    "\n",
    "plt.plot(xs_plot, u(xs_plot), label='u')\n",
    "plt.plot(xs_plot, uI_glob(xs_plot), label='$u_I$')\n",
    "plt.gca().set_xticks(xs)\n",
    "plt.grid(axis='x')\n",
    "plt.legend();"
   ]
  },
  {
   "cell_type": "markdown",
   "id": "48d24871-e55f-4485-ba08-d142b50abe1d",
   "metadata": {},
   "source": [
    "We define the finite element space $S$ as the linear span of the global basis functions $\\phi_i$, $i=1,\\dots,n-1$. Note that $\\phi_i(0) = \\phi_i(1) = 0$\n",
    "and $\\phi_i \\in C(0,1)$ for all $i$. However, $\\phi_i \\notin C^1(0,1)$\n",
    "and therefore $\\phi_i$ is not in the space \n",
    "\n",
    "$$\n",
    "\\mathcal V = \\{ v \\in C^1(0,1) : v(0) = v(1) = 0 \\}\n",
    "$$\n",
    "\n",
    "that we used earlier. We will define a weaker notion of derivative so that $\\phi_i$ is differentiable in this weak sense. Letting $V$ to be the space of weakly differentiable functions on $[0,1]$, with vanishing boundary conditions, \n",
    "we will show that $S$ is a subspace of $V$ and that \n",
    "\n",
    "$$\n",
    "a(u, v) = (u', v'), \\quad a : V \\times V \\to \\mathbb R\n",
    "$$\n",
    "\n",
    "is an inner product on $V$. Here prime stands now for the weak derivative. (For differentiable functions, the weak derivative is the usual derivative, so this notation will not cause trouble.)"
   ]
  },
  {
   "cell_type": "markdown",
   "id": "077557fb-265d-44e6-84b0-69465fca174a",
   "metadata": {},
   "source": [
    "The abstract error estimate for the Galerkin solution holds for the spaces $S$ and $V$. \n",
    "We can turn the abstract error estimate into a concrete one as follows. Write $\\|\\cdot\\|$ for the norm in $L^2(0,1)$ and suppose that $u \\in V \\cap C^2(0,1)$ satisfies\n",
    "\n",
    "$$\n",
    "a(u, v) = L(v) \\quad \\text{for all $v \\in V$}.\n",
    "$$\n",
    "\n",
    "Then, using the fact that the weak derivative of $u_I$ is in $L^2(0,1)$,\n",
    "\n",
    "\\begin{align*}\n",
    "\\|(h\\partial)(u-u_S)\\|\n",
    "&= \n",
    "h\\|u-u_S\\|_E \n",
    "= \n",
    "h \\min_{v \\in S}\\|u-v\\|_E\n",
    "\\le \n",
    "\\|(h\\partial)(u-u_I)\\|\n",
    "\\\\&\\le\n",
    "\\max_{i=1,\\dots,n}\\|(h\\partial)(u - u_I)\\|_{L^\\infty(x_{i-1}, x_i)} \n",
    "\\le C \\|(h \\partial)^2 u\\|_{L^\\infty(0,1)}.\n",
    "\\end{align*}\n",
    "\n",
    "It is possible to show stronger estimates, and we will return to this once we have defined and studied weak derivatives. "
   ]
  },
  {
   "cell_type": "markdown",
   "id": "4a0dd294-e813-4977-9810-7c949ed94987",
   "metadata": {},
   "source": [
    "# Implementation\n",
    "\n",
    "We define again\n",
    "\n",
    "$$\n",
    "u_S = \\sum_{j=1}^{n-1} U_j \\phi_j, \n",
    "\\quad\n",
    "K_{ij} = a(\\phi_i, \\phi_j),\n",
    "\\quad\n",
    "F_i = L(\\phi_i), \n",
    "\\qquad i,j=1,\\dots,n-1,\n",
    "$$\n",
    "\n",
    "and write $U$ and $F$ for the vectors with elements $U_i$ and $F_i$, and $K$ for the matrix with elements $K_{ij}$.\n",
    "Then the equation for the Galerkin solution \n",
    "\n",
    "$$\n",
    "a(u_S,v) = L(v) \\quad \\text{for all $v \\in S$}.\n",
    "$$\n",
    "\n",
    "is equivalent with $K U = F$."
   ]
  },
  {
   "cell_type": "markdown",
   "id": "a1599e01-4a7c-4ae9-838f-2cff740b6b22",
   "metadata": {},
   "source": [
    "Let us assemble the matrix $K$. As the global basis functions $\\phi_j$ are defined piecewisely on intervals $I_e$, we will consider each interval separately. On $I_e$ there holds\n",
    "\n",
    "$$\n",
    "\\phi_e(x) = \\psi_1^e(x), \\quad \\phi_{e-1}(x) = \\psi_0^e(x), \\quad \\phi_i(x) = 0, \\quad i \\ne e, e-1.\n",
    "$$\n",
    "\n",
    "Differentiating the local basis functions on $I_e$, we get \n",
    "\n",
    "$$\n",
    "\\phi_e'(x) = \\frac{1}{x_e - x_{e-1}}, \\quad \\phi_{e-1}'(x) =  \\frac{-1}{x_e - x_{e-1}}, \\quad \\phi_i'(x) = 0, \\quad i \\ne e, e-1.\n",
    "$$\n",
    "\n",
    "In order handle the first and last interval in the same way as the rest, we introduce the auxiliary basis functions\n",
    "\n",
    "$$\n",
    "\\phi_0(x) = \\psi_{0,1}(x), \\quad \\phi_n(x) = \\psi_{1,n}(x).\n",
    "$$"
   ]
  },
  {
   "cell_type": "code",
   "execution_count": 12,
   "id": "9da66c8e",
   "metadata": {},
   "outputs": [
    {
     "data": {
      "image/png": "[encoded data removed]",
      "text/plain": [
       "<Figure size 432x288 with 1 Axes>"
      ]
     },
     "metadata": {
      "needs_background": "light"
     },
     "output_type": "display_data"
    }
   ],
   "source": [
    "plt.plot(xs_plot, Phi(psi0, 1, xs_plot), label=f'$\\phi_0$')\n",
    "plt.plot(xs_plot, Phi(psi1, n, xs_plot), label=f'$\\phi_n$')\n",
    "plt.gca().set_xticks(xs)\n",
    "plt.grid(axis='x')\n",
    "plt.legend();"
   ]
  },
  {
   "cell_type": "code",
   "execution_count": 13,
   "id": "ec798dd0-3363-4aab-8763-dfaeb8d67dff",
   "metadata": {
    "scene__fem": true,
    "tags": [
     "ActiveScene"
    ]
   },
   "outputs": [
    {
     "name": "stdout",
     "output_type": "stream",
     "text": [
      "[[ 8. -4.  0.]\n",
      " [-4.  8. -4.]\n",
      " [ 0. -4.  8.]]\n"
     ]
    }
   ],
   "source": [
    "def assemble_K_demo(x):\n",
    "    n = np.size(x) - 1\n",
    "    K = np.zeros((n+1, n+1))\n",
    "    for e in range(1, n+1):\n",
    "        dx = x[e] - x[e-1]        # length of the interval I_e\n",
    "        dphis = [-1 / dx, 1 / dx] # phi_j' for j=e-1 and j=e \n",
    "        ix = [e - 1, e]           # indices of K that are affected by I_e\n",
    "        for i in range(2):\n",
    "            for j in range(2):\n",
    "                K[ix[i], ix[j]] += dphis[i] * dphis[j] * dx\n",
    "    return K \n",
    "\n",
    "K = assemble_K_demo(xs)\n",
    "# Condense K, that is, \n",
    "# throw away the values corresponding to the auxiliary functions\n",
    "K = K[1:-1,1:-1]\n",
    "print(K)"
   ]
  },
  {
   "cell_type": "markdown",
   "id": "4c3d83af-52af-442a-9641-12d8bbfff072",
   "metadata": {},
   "source": [
    "We turn to assembly of the vector $F$ and assume that the linear map $L$ is given by the inner product $L(v) = (f, v)$ with a function $f$. Then we need to evaluate the integrals $(f, \\phi_j)$ numerically. Let us use the trapezium rule separately on each interval $I_e$:\n",
    "\n",
    "$$\n",
    "\\int_{I_e} f(x) \\phi_e(x) dx \\approx \\frac{x_e - x_{e-1}}{2} f(x_e),\n",
    "\\quad\n",
    "\\int_{I_e} f(x) \\phi_{e-1}(x) dx \\approx \\frac{x_e - x_{e-1}}{2} f(x_{e-1}),\n",
    "$$\n",
    "\n",
    "and\n",
    "\n",
    "$$\n",
    "\\int_{I_e} f(x) \\phi_{j}(x) dx = 0, \\quad j\\ne e, e-1.\n",
    "$$"
   ]
  },
  {
   "cell_type": "code",
   "execution_count": 14,
   "id": "30860f1d-0bfe-4a02-865f-d057f96f6bf7",
   "metadata": {
    "scene__fem": true,
    "tags": [
     "ActiveScene"
    ]
   },
   "outputs": [
    {
     "name": "stdout",
     "output_type": "stream",
     "text": [
      "[0.25 0.25 0.25]\n"
     ]
    }
   ],
   "source": [
    "def assemble_F_demo(x, f):\n",
    "    n = np.size(x) - 1\n",
    "    F = np.zeros(n+1)\n",
    "    for e in range(1, n+1):\n",
    "        dx = x[e] - x[e-1] \n",
    "        F[e]   += dx / 2 * f(x[e])\n",
    "        F[e-1] += dx / 2 * f(x[e-1])\n",
    "    return F\n",
    "\n",
    "def f(x):\n",
    "    return 1\n",
    "\n",
    "F = assemble_F_demo(xs, f)\n",
    "# Condense F\n",
    "F = F[1:-1] \n",
    "print(F)"
   ]
  },
  {
   "cell_type": "markdown",
   "id": "d309535b-3524-4fb1-ad14-5b08fde3418d",
   "metadata": {},
   "source": [
    "## Example: Poisson's equation in 1d with unit load\n",
    "\n",
    "Let us solve the problem\n",
    "\n",
    "$$\n",
    "\\begin{cases}\n",
    "-u'' = 1 & \\text{on $(0,1)$},\n",
    "\\\\\n",
    "u(0) = 0 = u(1).\n",
    "\\end{cases}\n",
    "$$"
   ]
  },
  {
   "cell_type": "code",
   "execution_count": 15,
   "id": "a20df0ad-7e0e-4ec9-a5ae-f7020aab9093",
   "metadata": {
    "scene__fem": true,
    "tags": [
     "ActiveScene"
    ]
   },
   "outputs": [],
   "source": [
    "def assemble_poisson_demo(xs):\n",
    "    K = assemble_K_demo(xs)\n",
    "    K = K[1:-1,1:-1]\n",
    "    F = assemble_F_demo(xs, f)\n",
    "    F = F[1:-1] \n",
    "    return K, F\n",
    "\n",
    "def solve_poisson_demo(xs):\n",
    "    K, F = assemble_poisson_demo(xs)\n",
    "    u = np.zeros(np.size(xs))\n",
    "    u[1:-1] = la.solve(K, F)\n",
    "    return u"
   ]
  },
  {
   "cell_type": "markdown",
   "id": "908934d8",
   "metadata": {},
   "source": [
    "The solution vector `u` contains the coefficients of the Galerkin solution $u_S$ in the global basis $\\phi_0, \\dots, \\phi_n$.\n",
    "Observe that the global basis functions satisfy \n",
    "\n",
    "$$\n",
    "\\phi_j(x_k) = \\delta_{jk} = \\begin{cases}\n",
    "1 & j=k,\n",
    "\\\\\n",
    "0 & \\text{otherwise}.\n",
    "\\end{cases}\n",
    "$$\n",
    "\n",
    "Hence we can interpret the coefficients `u` as the point values of $u_S$ at the nodes $x_j$, $j=0,\\dots,n$."
   ]
  },
  {
   "cell_type": "code",
   "execution_count": 16,
   "id": "a8436024-898d-4b72-b4a1-04dce4aea542",
   "metadata": {
    "scene__fem": true,
    "tags": [
     "ActiveScene"
    ]
   },
   "outputs": [
    {
     "data": {
      "image/png": "[encoded data removed]",
      "text/plain": [
       "<Figure size 432x288 with 1 Axes>"
      ]
     },
     "metadata": {
      "needs_background": "light"
     },
     "output_type": "display_data"
    }
   ],
   "source": [
    "plt.plot(xs, solve_poisson_demo(xs), label='$u_S$ coarse')\n",
    "xs_fine = np.linspace(0,1)\n",
    "plt.plot(xs_fine, solve_poisson_demo(xs_fine), label='$u_S$ fine')\n",
    "plt.gca().set_xticks(xs)\n",
    "plt.grid(axis='x')\n",
    "plt.legend();"
   ]
  },
  {
   "cell_type": "markdown",
   "id": "5578a0d2-87b9-440c-bc6c-b25483503b7c",
   "metadata": {},
   "source": [
    "# Sparsity\n",
    "\n",
    "Most of the elements of $K$ vanish, that is, $K$ is [sparse](https://en.wikipedia.org/wiki/Sparse_matrix). (In fact, in this particular case, $K$ is [tridiagonal](https://en.wikipedia.org/wiki/Tridiagonal_matrix).)\n",
    "Solving the system $KU = F$ is typically the most costly part of the finite element method, and efficiency of the method boils down to this system being sparse."
   ]
  },
  {
   "cell_type": "code",
   "execution_count": 17,
   "id": "98af2b91-1d59-4203-b945-762a810b51ea",
   "metadata": {
    "scene__fem": true,
    "tags": [
     "ActiveScene"
    ]
   },
   "outputs": [
    {
     "data": {
      "text/plain": [
       "array([[ 98., -49.,   0., ...,   0.,   0.,   0.],\n",
       "       [-49.,  98., -49., ...,   0.,   0.,   0.],\n",
       "       [  0., -49.,  98., ...,   0.,   0.,   0.],\n",
       "       ...,\n",
       "       [  0.,   0.,   0., ...,  98., -49.,   0.],\n",
       "       [  0.,   0.,   0., ..., -49.,  98., -49.],\n",
       "       [  0.,   0.,   0., ...,   0., -49.,  98.]])"
      ]
     },
     "execution_count": 17,
     "metadata": {},
     "output_type": "execute_result"
    }
   ],
   "source": [
    "K, F = assemble_poisson_demo(xs_fine)\n",
    "K"
   ]
  },
  {
   "cell_type": "code",
   "execution_count": 18,
   "id": "f8cb8d27-c01b-4261-9a3b-d4a070e436f5",
   "metadata": {
    "scene__fem": true,
    "tags": [
     "ActiveScene"
    ]
   },
   "outputs": [
    {
     "data": {
      "image/png": "[encoded data removed]",
      "text/plain": [
       "<Figure size 432x288 with 2 Axes>"
      ]
     },
     "metadata": {
      "needs_background": "light"
     },
     "output_type": "display_data"
    }
   ],
   "source": [
    "plt.imshow(K)\n",
    "plt.colorbar();"
   ]
  },
  {
   "cell_type": "markdown",
   "id": "ca3c40eb-7d6f-4ca6-8085-90e94c58f431",
   "metadata": {},
   "source": [
    "We could (and should) reimplement `assemble_K_demo` using the [sparse matrix package](https://docs.scipy.org/doc/scipy/reference/sparse.html) of SciPy."
   ]
  },
  {
   "cell_type": "markdown",
   "id": "36ab5221-d3be-49d5-b0cd-4a1c810c43bf",
   "metadata": {},
   "source": [
    "# Implementation using Scikit-fem\n",
    "\n",
    "Let us now assemble the linear system for the same problem by using the Scikit-fem package."
   ]
  },
  {
   "cell_type": "code",
   "execution_count": 19,
   "id": "02fd6f9e-0109-4703-b675-22e2ea587224",
   "metadata": {
    "init_cell": true,
    "scene__import": true
   },
   "outputs": [],
   "source": [
    "import skfem as fem\n",
    "from skfem.helpers import dot, grad # helpers make forms look nice"
   ]
  },
  {
   "cell_type": "code",
   "execution_count": 20,
   "id": "aa5bff74-679f-4e5a-a03c-674c54a9117c",
   "metadata": {
    "scene__fem": true,
    "tags": [
     "ActiveScene"
    ]
   },
   "outputs": [],
   "source": [
    "@fem.BilinearForm\n",
    "def a(u, v, w):\n",
    "    # Return the integrand in the bilinear form a(u, v)\n",
    "    # using a notation that works in all dimensions\n",
    "    return dot(grad(u), grad(v)) \n",
    "\n",
    "@fem.LinearForm\n",
    "def L(v, w):\n",
    "    x = w.x[0] # quadrature points for numerical integration\n",
    "    # Return the integrand in the linear form L(v) \n",
    "    return f(x) * v # use the same f as before\n",
    "\n",
    "def assemble_poisson(xs):    \n",
    "    mesh = fem.MeshLine(xs) \n",
    "    basis = fem.Basis(mesh, fem.ElementLineP1())\n",
    "    K = a.assemble(basis)\n",
    "    F = L.assemble(basis)\n",
    "    # Empty call to get_dofs() matches all boundary degrees-of-freedom\n",
    "    boundary_dofs = basis.get_dofs()\n",
    "    K, F, _, _ = fem.condense(K, F, D=boundary_dofs)\n",
    "    return K, F"
   ]
  },
  {
   "cell_type": "code",
   "execution_count": 21,
   "id": "0aa8f826-42c9-4893-bf76-0179b0d76c57",
   "metadata": {
    "scene__fem": true,
    "tags": [
     "ActiveScene"
    ]
   },
   "outputs": [
    {
     "name": "stdout",
     "output_type": "stream",
     "text": [
      "[[ 8. -4.  0.]\n",
      " [-4.  8. -4.]\n",
      " [ 0. -4.  8.]]\n",
      "[0.25 0.25 0.25]\n"
     ]
    }
   ],
   "source": [
    "K, F = assemble_poisson(xs)\n",
    "# K is a sparse matrix, convert it to a standard matrix\n",
    "print(K.toarray())  \n",
    "print(F)"
   ]
  },
  {
   "cell_type": "markdown",
   "id": "26fdf06c",
   "metadata": {},
   "source": [
    "We get the same linear system as before. Let's check that this is also the case when we use a finer mesh."
   ]
  },
  {
   "cell_type": "code",
   "execution_count": 22,
   "id": "889076a4-dcb4-4998-a0d7-088737a4aa87",
   "metadata": {
    "scene__fem": true,
    "tags": [
     "ActiveScene"
    ]
   },
   "outputs": [
    {
     "name": "stdout",
     "output_type": "stream",
     "text": [
      "0.0\n",
      "0.0\n"
     ]
    }
   ],
   "source": [
    "K1, F1 = assemble_poisson_demo(xs_fine)\n",
    "K2, F2 = assemble_poisson(xs_fine)\n",
    "print(la.norm(K1 - K2))\n",
    "print(la.norm(F1 - F2))"
   ]
  },
  {
   "cell_type": "markdown",
   "id": "9afcdf4b",
   "metadata": {},
   "source": [
    "We can solve the Poisson problem in even briefer way using Scikit-fem."
   ]
  },
  {
   "cell_type": "code",
   "execution_count": 23,
   "id": "a360e9a7",
   "metadata": {},
   "outputs": [
    {
     "data": {
      "image/png": "[encoded data removed]",
      "text/plain": [
       "<Figure size 432x288 with 1 Axes>"
      ]
     },
     "metadata": {
      "needs_background": "light"
     },
     "output_type": "display_data"
    }
   ],
   "source": [
    "from skfem.models.poisson import laplace, unit_load\n",
    "import skfem.visuals.matplotlib as fem_plt\n",
    "\n",
    "mesh = fem.MeshLine(xs) \n",
    "basis = fem.Basis(mesh, fem.ElementLineP1())\n",
    "K = laplace.assemble(basis)\n",
    "F = unit_load.assemble(basis)\n",
    "fem_plt.plot(mesh, fem.solve(*fem.condense(K, F, D=basis.get_dofs())));"
   ]
  },
  {
   "cell_type": "markdown",
   "id": "924e858e-4a4f-4722-b374-9c7d5f4d86ac",
   "metadata": {},
   "source": [
    "# Computational study of convergence\n",
    "\n",
    "Let $u$ solve the problem \n",
    "\n",
    "$$\n",
    "\\begin{cases}\n",
    "-u'' = f & \\text{on $(0,1)$},\n",
    "\\\\\n",
    "u(0) = 0 = u(1),\n",
    "\\end{cases}\n",
    "$$\n",
    "\n",
    "and consider the corresponding Galerkin solution $u_S$ computed in a mesh\n",
    "\n",
    "$$\n",
    "0 = x_0 < x_1 < \\dots < x_n = 1.\n",
    "$$ \n",
    "\n",
    "It is typical to think that $u_S$ is parametrized by the mesh constant\n",
    "\n",
    "$$\n",
    "h = \\max_{e=1,\\dots,n} |x_e - x_{e-1}|,\n",
    "$$\n",
    "\n",
    "and write $u_h = u_S$. \n",
    "\n",
    "We will study computationally how the error $u_h - u$ converges in the space $L^2(0,1)$.\n",
    "In order to do this, we need to set up the problem so that we know the exact solution $u$.\n",
    "A way to achieve this is to choose first $u$ satisfying the boundary conditions and then compute $f$.\n",
    "\n",
    "We set \n",
    "\n",
    "$$\n",
    "u(x) = \\sin(\\pi x).\n",
    "$$\n",
    "\n",
    "Then $u(0) = u(1) = 0$ and \n",
    "\n",
    "$$\n",
    "-u''(x) = \\pi^2 \\sin(\\pi x) =: f(x). \n",
    "$$"
   ]
  },
  {
   "cell_type": "code",
   "execution_count": 24,
   "id": "a8db7873",
   "metadata": {},
   "outputs": [
    {
     "data": {
      "image/png": "[encoded data removed]",
      "text/plain": [
       "<Figure size 432x288 with 1 Axes>"
      ]
     },
     "metadata": {
      "needs_background": "light"
     },
     "output_type": "display_data"
    }
   ],
   "source": [
    "def u_exact(x):\n",
    "    return np.sin(np.pi * x)\n",
    "\n",
    "def f(x):\n",
    "    return np.pi**2 * np.sin(np.pi * x)\n",
    "\n",
    "# We need to redefine this, as we didn't parametrize f\n",
    "def solve_poisson_demo(xs):\n",
    "    K = assemble_K_demo(xs)\n",
    "    K = K[1:-1,1:-1]\n",
    "    F = assemble_F_demo(xs, f)\n",
    "    F = F[1:-1] \n",
    "    u = np.zeros(np.size(xs))\n",
    "    u[1:-1] = la.solve(K, F)\n",
    "    return u\n",
    "\n",
    "ns = [4, 8]\n",
    "for n in ns:\n",
    "    xs, h = np.linspace(0,1, n+1, retstep=True)\n",
    "    u = solve_poisson_demo(xs)\n",
    "    plt.plot(xs, u, label=f'{h = }')\n",
    "xs_plot = np.linspace(0, 1)\n",
    "plt.plot(xs_plot, u_exact(xs_plot), label='true')\n",
    "plt.legend();"
   ]
  },
  {
   "cell_type": "markdown",
   "id": "69603fdb",
   "metadata": {},
   "source": [
    "Recalling that on $I_e$\n",
    "\n",
    "$$\n",
    "\\phi_e(x) = \\psi_1^e(x), \\quad \\phi_{e-1}(x) = \\psi_0^e(x), \\quad \\phi_i(x) = 0, \\quad i \\ne e, e-1,\n",
    "$$\n",
    "\n",
    "we have\n",
    "\n",
    "$$\n",
    "\\|u_h - u\\|^2 \n",
    "= \\sum_{e=1}^n \\int_{I_e} |u_h(x) - u(x)|^2 dx\n",
    "= \\sum_{e=1}^n \\int_{I_e} |U_{e} \\psi_1^e(x) + U_{e-1} \\psi_0^e(x) - u(x)|^2 dx.\n",
    "$$\n",
    "\n",
    "Evaluating the integral using the trapezium rule yields\n",
    "\n",
    "$$\n",
    "\\int_{I_e} |U_{e} \\psi_1^e(x) + U_{e-1} \\psi_0^e(x) - u(x)|^2 dx\n",
    "\\approx \\frac{x_e - x_{e-1}}{2} \\left( |U_{e-1} - u(x_{e-1})|^2 + |U_{e} - u(x_{e})|^2 \\right).\n",
    "$$\n",
    "\n",
    "In principle, we could expand the square and compute the terms\n",
    "\n",
    "$$\n",
    "U_i U_j \\int_{I_e} \\psi_1^i(x) \\psi_0^j(x) dx, \\quad i,j=e,e-1\n",
    "$$\n",
    "\n",
    "analytically. In practice, we can use a numerical integration method, that yields an exact result for polynomials of degree 2 or less, to achieve the same accuracy with the analytic computation. Here we will use the trapezium rule for simplicity. "
   ]
  },
  {
   "cell_type": "code",
   "execution_count": 25,
   "id": "290018aa",
   "metadata": {},
   "outputs": [
    {
     "data": {
      "image/png": "[encoded data removed]",
      "text/plain": [
       "<Figure size 432x288 with 1 Axes>"
      ]
     },
     "metadata": {
      "needs_background": "light"
     },
     "output_type": "display_data"
    }
   ],
   "source": [
    "def error_sq_demo(x, u):\n",
    "    '''Squared L2 error'''\n",
    "    n = np.size(xs) - 1\n",
    "    error = 0\n",
    "    for e in range(1, n+1):\n",
    "        dx = x[e] - x[e - 1]\n",
    "        error += dx / 2 * ((u[e-1] - u_exact(x[e-1]))**2 + (u[e] - u_exact(x[e]))**2)\n",
    "    return error\n",
    "\n",
    "ns = [2**n for n in range(2,6)]\n",
    "N = len(ns)\n",
    "errs_demo = np.zeros(N)\n",
    "hs = np.zeros(N)\n",
    "for i in range(N):\n",
    "    n = ns[i]\n",
    "    xs, h = np.linspace(0,1, n+1, retstep=True)\n",
    "    u = solve_poisson_demo(xs)\n",
    "    hs[i] = h\n",
    "    errs_demo[i] = np.sqrt(error_sq_demo(xs, u))\n",
    "\n",
    "plt.loglog(hs, errs_demo, '-o', label='error')\n",
    "plt.loglog(hs, hs**2, label='$h^2$')\n",
    "plt.legend();"
   ]
  },
  {
   "cell_type": "markdown",
   "id": "b90bcec6",
   "metadata": {},
   "source": [
    "# Evaluation of error using Scikit-fem"
   ]
  },
  {
   "cell_type": "code",
   "execution_count": 26,
   "id": "31107536",
   "metadata": {},
   "outputs": [
    {
     "data": {
      "image/png": "[encoded data removed]",
      "text/plain": [
       "<Figure size 432x288 with 1 Axes>"
      ]
     },
     "metadata": {
      "needs_background": "light"
     },
     "output_type": "display_data"
    }
   ],
   "source": [
    "# We need to redefine this, as we didn't parametrize f\n",
    "@fem.LinearForm\n",
    "def L(v, w):\n",
    "    x = w.x[0] # quadrature points for numerical integration\n",
    "    # Return the integrand in the linear form L(v) \n",
    "    return f(x) * v \n",
    "\n",
    "@fem.Functional\n",
    "def error_sq(w):\n",
    "    x = w.x[0] \n",
    "    uh = w['uh'] # uh is given in the assemble call below\n",
    "    # Return the integrand in the squared L2 error\n",
    "    return (uh - u_exact(x))**2\n",
    "\n",
    "def error_poisson(xs):    \n",
    "    mesh = fem.MeshLine(xs) \n",
    "    basis = fem.Basis(mesh, fem.ElementLineP1())\n",
    "    K = a.assemble(basis)\n",
    "    F = L.assemble(basis)\n",
    "    boundary_dofs = basis.get_dofs()\n",
    "    u = fem.solve(*fem.condense(K, F, D=boundary_dofs))\n",
    "    return np.sqrt(error_sq.assemble(basis, uh=basis.interpolate(u)))\n",
    "\n",
    "errs = np.array([\n",
    "    error_poisson(np.linspace(0,1, n+1)) for n in ns])\n",
    "\n",
    "plt.loglog(hs, errs, 'ob-', label='skfem')\n",
    "plt.loglog(hs, errs_demo, '.r--', label='demo')\n",
    "plt.legend();"
   ]
  },
  {
   "cell_type": "markdown",
   "id": "979a56d6",
   "metadata": {},
   "source": [
    "The two errors are slightly different since Scikit-fem is using more accurate numerical integration method than the trapezium rule. "
   ]
  },
  {
   "cell_type": "markdown",
   "id": "38ea3150",
   "metadata": {},
   "source": [
    "# Relation to finite difference method\n",
    "\n",
    "TODO"
   ]
  },
  {
   "cell_type": "code",
   "execution_count": null,
   "id": "74c509ad-2e77-4289-b26d-586b3296cbf5",
   "metadata": {},
   "outputs": [],
   "source": []
  }
 ],
 "metadata": {
  "interpreter": {
   "hash": "ad7b041df3eb63d09c3a966d529f6417e08720c4e2e436340bd2897bbac3600a"
  },
  "kernelspec": {
   "display_name": "Python 3.9 (comp-methods)",
   "language": "python",
   "name": "python3"
  },
  "language_info": {
   "codemirror_mode": {
    "name": "ipython",
    "version": 3
   },
   "file_extension": ".py",
   "mimetype": "text/x-python",
   "name": "python",
   "nbconvert_exporter": "python",
   "pygments_lexer": "ipython3",
   "version": "3.9.7"
  },
  "scenes_data": {
   "active_scene": "fem",
   "init_scene": "import",
   "scenes": [
    "import",
    "min_dist",
    "plot_basis",
    "fem"
   ]
  }
 },
 "nbformat": 4,
 "nbformat_minor": 5
}
