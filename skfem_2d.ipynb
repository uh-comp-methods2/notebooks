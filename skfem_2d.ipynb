{
 "cells": [
  {
   "cell_type": "markdown",
   "metadata": {},
   "source": [
    "# Working with Scikit-fem in two dimensions\n",
    "\n",
    "All connected domains in 1d are intervals, but domains in 2d can have wildly different shapes. \n",
    "Therefore [mesh generation](https://en.wikipedia.org/wiki/Mesh_generation) is much more complicated in 2d. We are not going to discuss this. Scikit-fem can generate some simple meshes. "
   ]
  },
  {
   "cell_type": "code",
   "execution_count": null,
   "metadata": {},
   "outputs": [],
   "source": [
    "import numpy as np\n",
    "from matplotlib import pyplot as plt\n",
    "import skfem as fem\n",
    "import skfem.visuals.matplotlib as fem_plt"
   ]
  },
  {
   "cell_type": "code",
   "execution_count": null,
   "metadata": {},
   "outputs": [],
   "source": [
    "# Unit square\n",
    "mesh = fem.MeshTri()\n",
    "fem_plt.draw(mesh)\n",
    "xs, ys = mesh.p # the dimensions work very nicely now!\n",
    "for x, y in zip(xs, ys):\n",
    "    plt.text(x, y, f'({x:.0f}, {y:.0f})')"
   ]
  },
  {
   "cell_type": "code",
   "execution_count": null,
   "metadata": {},
   "outputs": [],
   "source": [
    "# The reference domain is a triangle\n",
    "mesh = fem.MeshTri.init_refdom()\n",
    "fem_plt.draw(mesh)\n",
    "xs, ys = mesh.p\n",
    "for x, y in zip(xs, ys):\n",
    "    plt.text(x, y, f'({x:.0f}, {y:.0f})')"
   ]
  },
  {
   "cell_type": "code",
   "execution_count": null,
   "metadata": {},
   "outputs": [],
   "source": [
    "# Unit circle\n",
    "mesh = fem.MeshTri.init_circle(nrefs=1)\n",
    "fem_plt.draw(mesh)\n",
    "eps = np.finfo(float).eps\n",
    "xs, ys = mesh.p\n",
    "for x, y in zip(xs, ys):\n",
    "    # Label only a couple of points\n",
    "    if ((abs(x) < eps or abs(y) < eps) \n",
    "            and (abs(abs(x) - 1) < eps or abs(abs(y) - 1) < eps)):\n",
    "        plt.text(x, y, f'({x:.0f}, {y:.0f})')"
   ]
  },
  {
   "cell_type": "code",
   "execution_count": null,
   "metadata": {},
   "outputs": [],
   "source": [
    "mesh = fem.MeshTri.init_lshaped()\n",
    "fem_plt.draw(mesh)\n",
    "xs, ys = mesh.p\n",
    "for x, y in zip(xs, ys):\n",
    "    plt.text(x, y, f'({x:.0f}, {y:.0f})')"
   ]
  },
  {
   "cell_type": "markdown",
   "metadata": {},
   "source": [
    "These meshes can be transformed further, see for instance this [example](https://scikit-fem.readthedocs.io/en/latest/listofexamples.html#example-13-laplace-with-mixed-boundary-conditions). More complicated meshes can be created using [CAD](https://en.wikipedia.org/wiki/Computer-aided_design) software such as [FreeCAD](https://www.freecadweb.org/). Techniques based on signed distance functions can also be useful, see for example [sdf](https://github.com/fogleman/sdf) Python package. Here is an [example](https://scikit-fem.readthedocs.io/en/latest/listofexamples.html#example-21-structural-vibration) on how to load a mesh with Scikit-fem. However, we are only going to use the four types of basic meshes plotted above. \n",
    "\n",
    "Mesh refinement works as in the 1d case."
   ]
  },
  {
   "cell_type": "code",
   "execution_count": null,
   "metadata": {},
   "outputs": [],
   "source": [
    "mesh = fem.MeshTri().refined(2)\n",
    "fem_plt.draw(mesh);"
   ]
  },
  {
   "cell_type": "markdown",
   "metadata": {},
   "source": [
    "# Triangles and facets\n",
    "\n",
    "In 1d we considered nodes\n",
    "\n",
    "\\begin{align*}\n",
    "0 = x_0 < x_1 < \\dots < x_n = 1,\n",
    "\\end{align*}\n",
    "\n",
    "and mapped the reference domain $[0,1]$ on the domains $I_e = [x_{e-1}, x_e]$, $e=1,\\dots,n$.\n",
    "In 2d the reference domain is the triangle with vertices $(0,0)$, $(1,0)$ and $(0,1)$,\n",
    "and this is mapped on other triangles using affine functions. Note that more complicated affine functions than rigid motions and scaling are needed in the case of the circle above. \n",
    "\n",
    "In 1d consecutive nodes define an element domain, but in 2d we need to know explicitly which nodes form triangles. This information is stored in `mesh.t`. "
   ]
  },
  {
   "cell_type": "code",
   "execution_count": null,
   "metadata": {},
   "outputs": [],
   "source": [
    "mesh = fem.MeshTri()\n",
    "print(f'Number of nodes: {mesh.nvertices = }')\n",
    "print(f'Number of triangles: {mesh.nelements = }')\n",
    "# Transpose just for prettier printing\n",
    "print(f'Indices of the triples of nodes that form the triangles: mesh.t.T = ') \n",
    "print(mesh.t.T)\n",
    "\n",
    "fem_plt.draw(mesh, node_numbering=True);"
   ]
  },
  {
   "cell_type": "markdown",
   "metadata": {},
   "source": [
    "The line segments forming the triangles are called facets. They are stored in `mesh.facets`."
   ]
  },
  {
   "cell_type": "code",
   "execution_count": null,
   "metadata": {},
   "outputs": [],
   "source": [
    "print(f'Indices of the pairs of nodes that form the facets: mesh.facets.T = ') \n",
    "print(mesh.facets.T)"
   ]
  },
  {
   "cell_type": "markdown",
   "metadata": {},
   "source": [
    "# Local P1 basis functions\n",
    "\n",
    "We can use [plot_trisurf](https://matplotlib.org/stable/tutorials/toolkits/mplot3d.html#tri-surface-plots) to plot functions given at the nodes of triangles. Let's try this for the first P1 basis function on the reference domain."
   ]
  },
  {
   "cell_type": "code",
   "execution_count": null,
   "metadata": {},
   "outputs": [],
   "source": [
    "mesh_ref = fem.MeshTri.init_refdom()\n",
    "basis_ref_P1 = fem.Basis(mesh_ref, fem.ElementTriP1())\n",
    "u = np.zeros(basis_ref_P1.N) \n",
    "u[0] = 1\n",
    "ax3d = plt.axes(projection='3d')\n",
    "xs_mesh_ref, ys_mesh_ref = mesh_ref.p\n",
    "ax3d.plot_trisurf(xs_mesh_ref, ys_mesh_ref, u, triangles=mesh_ref.t.T);"
   ]
  },
  {
   "cell_type": "markdown",
   "metadata": {},
   "source": [
    "The picture can be made prettier by plotting the cross sections of the basis function over facets, and also its nodal values. "
   ]
  },
  {
   "cell_type": "code",
   "execution_count": null,
   "metadata": {},
   "outputs": [],
   "source": [
    "import plot_basis2d as pb2\n",
    "def prettify(u, basis):\n",
    "    pb2.plot_facet_vals(u, basis)\n",
    "    pb2.plot_nodal_vals(u, basis)\n",
    "    pb2.set_equal_aspect()\n",
    "    pb2.hide_ticks()"
   ]
  },
  {
   "cell_type": "code",
   "execution_count": null,
   "metadata": {},
   "outputs": [],
   "source": [
    "\n",
    "for j in range(basis_ref_P1.N):\n",
    "    plt.figure()\n",
    "    ax3d = plt.axes(projection='3d')\n",
    "    u = np.zeros(basis_ref_P1.N) \n",
    "    u[j] = 1\n",
    "    ax3d.plot_trisurf(xs_mesh_ref, ys_mesh_ref, u, triangles=mesh_ref.t.T, alpha=0.5, shade=False)\n",
    "    prettify(u, basis_ref_P1)"
   ]
  },
  {
   "cell_type": "markdown",
   "metadata": {},
   "source": [
    "# Local P2 basis functions\n",
    "\n",
    "To capture the features of P2 basis functions, we need to refine the mesh."
   ]
  },
  {
   "cell_type": "code",
   "execution_count": null,
   "metadata": {},
   "outputs": [],
   "source": [
    "basis_ref_P2 = fem.Basis(mesh_ref, fem.ElementTriP2())\n",
    "for j in range(basis_ref_P2.N):\n",
    "    plt.figure()\n",
    "    ax3d = plt.axes(projection='3d')\n",
    "    u = np.zeros(basis_ref_P2.N) \n",
    "    u[j] = 1\n",
    "    mesh_plot, u_plot = basis_ref_P2.refinterp(u, nrefs=4)\n",
    "    xs_mesh_plot, ys_mesh_plot = mesh_plot.p\n",
    "    ax3d.plot_trisurf(xs_mesh_plot, ys_mesh_plot, u_plot, triangles=mesh_plot.t.T, alpha=0.5, shade=False)\n",
    "    prettify(u, basis_ref_P2)"
   ]
  },
  {
   "cell_type": "markdown",
   "metadata": {},
   "source": [
    "The first three basis functions take value 1 at one of the nodes and vanish at the other nodes and at the midpoints of the facets, while the last three basis functions take value 1 at one of the midpoints and vanish at the other midpoints and at the nodes. The degrees of freedom (i.e. the coefficients in the basis) can be visualized as being located at the nodes and midpoints.  "
   ]
  },
  {
   "cell_type": "code",
   "execution_count": null,
   "metadata": {},
   "outputs": [],
   "source": [
    "def plot_dof(basis, dof, style):\n",
    "    x, y = basis.doflocs[:, dof]\n",
    "    plt.plot(x, y, style)\n",
    "    plt.annotate(str(dof), xy=(x, y), xytext=(4, 4), textcoords='offset pixels')\n",
    "\n",
    "fem_plt.draw(mesh_ref)\n",
    "for dof in np.squeeze(basis_ref_P2.nodal_dofs):\n",
    "    plot_dof(basis_ref_P2, dof, 'ob')\n",
    "for dof in np.squeeze(basis_ref_P2.facet_dofs):\n",
    "    plot_dof(basis_ref_P2, dof, 'or')"
   ]
  },
  {
   "cell_type": "markdown",
   "metadata": {},
   "source": [
    "# Global P1 basis functions"
   ]
  },
  {
   "cell_type": "code",
   "execution_count": null,
   "metadata": {},
   "outputs": [],
   "source": [
    "mesh = fem.MeshTri().refined(2)\n",
    "basis = fem.Basis(mesh, fem.ElementTriP1())\n",
    "print(f'Number of basis functions: {basis.N = }')\n",
    "fem_plt.draw(mesh)\n",
    "for dof in np.squeeze(basis.nodal_dofs):\n",
    "    plot_dof(basis, dof, 'ob')"
   ]
  },
  {
   "cell_type": "markdown",
   "metadata": {},
   "source": [
    "Plot the basis function in the middle."
   ]
  },
  {
   "cell_type": "code",
   "execution_count": null,
   "metadata": {},
   "outputs": [],
   "source": [
    "u = np.zeros(basis.N) \n",
    "u[6] = 1\n",
    "ax3d = plt.axes(projection='3d')\n",
    "xs_mesh, ys_mesh = mesh.p\n",
    "ax3d.plot_trisurf(xs_mesh, ys_mesh, u, triangles=mesh.t.T);"
   ]
  },
  {
   "cell_type": "markdown",
   "metadata": {},
   "source": [
    "Using [tripcolor](https://matplotlib.org/stable/api/_as_gen/matplotlib.pyplot.tripcolor.html) we can visualize functions on top of the mesh. [Gouraud shading](https://en.wikipedia.org/wiki/Gouraud_shading) corresponds to linear interpolation of the nodal values in each triangle. This gives an accurate picture of P1 basis functions. (The shading does not use colors from the [colormap](https://matplotlib.org/stable/tutorials/colors/colormaps.html) in the interpolation. This does not look too bad with the default sequential, linear colormap, but the distortion is worse for instance with diverging colormaps.)   "
   ]
  },
  {
   "cell_type": "code",
   "execution_count": null,
   "metadata": {},
   "outputs": [],
   "source": [
    "fem_plt.draw(mesh)\n",
    "plot_dof(basis, 6, '.k')\n",
    "plt.tripcolor(xs_mesh, ys_mesh, mesh.t.T, u, \n",
    "    shading='gouraud', vmin=-1, vmax=1)\n",
    "plt.colorbar();"
   ]
  },
  {
   "cell_type": "markdown",
   "metadata": {},
   "source": [
    "This is more or less what `plot` of Scikit-fem does. "
   ]
  },
  {
   "cell_type": "code",
   "execution_count": null,
   "metadata": {},
   "outputs": [],
   "source": [
    "fem_plt.draw(mesh)\n",
    "fem_plt.plot(basis, u, nrefs=0,\n",
    "    shading='gouraud', vmin=-1, vmax=1, ax=plt.gca(), colorbar=True);\n",
    "# plt.colorbar() does not work with plot of Scikit-fem"
   ]
  },
  {
   "cell_type": "markdown",
   "metadata": {},
   "source": [
    "# Global P2 basis functions\n",
    "\n"
   ]
  },
  {
   "cell_type": "code",
   "execution_count": null,
   "metadata": {},
   "outputs": [],
   "source": [
    "mesh = fem.MeshTri().refined(2)\n",
    "basis = fem.Basis(mesh, fem.ElementTriP2())\n",
    "print(f'Number of nodal dofs: {np.size(basis.nodal_dofs) = }')\n",
    "print(f'Number of facet dofs: {np.size(basis.facet_dofs) = }')\n",
    "print(f'Number of basis functions: {basis.N = }')\n",
    "fem_plt.draw(mesh)\n",
    "for dof in np.squeeze(basis.nodal_dofs):\n",
    "    plot_dof(basis, dof, 'ob')\n",
    "fem_plt.draw(mesh)\n",
    "for dof in np.squeeze(basis.facet_dofs):\n",
    "    plot_dof(basis, dof, 'or')"
   ]
  },
  {
   "cell_type": "code",
   "execution_count": null,
   "metadata": {},
   "outputs": [],
   "source": [
    "u = np.zeros(basis.N) \n",
    "u[6] = 1\n",
    "fem_plt.draw(mesh)\n",
    "plot_dof(basis, 6, '.k')\n",
    "fem_plt.plot(basis, u, nrefs=3,\n",
    "    shading='gouraud', vmin=-1, vmax=1, ax=plt.gca(), colorbar=True);"
   ]
  },
  {
   "cell_type": "code",
   "execution_count": null,
   "metadata": {},
   "outputs": [],
   "source": [
    "u = np.zeros(basis.N) \n",
    "u[44] = 1\n",
    "fem_plt.draw(mesh)\n",
    "plot_dof(basis, 44, '.k')\n",
    "fem_plt.plot(basis, u, nrefs=3,\n",
    "    shading='gouraud', vmin=-1, vmax=1, ax=plt.gca(), colorbar=True);"
   ]
  },
  {
   "cell_type": "code",
   "execution_count": null,
   "metadata": {},
   "outputs": [],
   "source": []
  }
 ],
 "metadata": {
  "interpreter": {
   "hash": "ad7b041df3eb63d09c3a966d529f6417e08720c4e2e436340bd2897bbac3600a"
  },
  "kernelspec": {
   "display_name": "Python 3.9.7 64-bit ('comp-methods': conda)",
   "language": "python",
   "name": "python3"
  },
  "language_info": {
   "codemirror_mode": {
    "name": "ipython",
    "version": 3
   },
   "file_extension": ".py",
   "mimetype": "text/x-python",
   "name": "python",
   "nbconvert_exporter": "python",
   "pygments_lexer": "ipython3",
   "version": "3.9.7"
  }
 },
 "nbformat": 4,
 "nbformat_minor": 2
}
