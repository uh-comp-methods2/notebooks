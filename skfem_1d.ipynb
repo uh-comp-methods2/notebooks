{
 "cells": [
  {
   "cell_type": "markdown",
   "id": "e3c6bb19",
   "metadata": {},
   "source": [
    "# Introduction to Scikit-fem\n",
    "\n",
    "We have already seen that Poisson's problem in 1d with unit load can be solved as follows:"
   ]
  },
  {
   "cell_type": "code",
   "execution_count": null,
   "id": "a360e9a7",
   "metadata": {},
   "outputs": [],
   "source": [
    "import numpy as np\n",
    "from matplotlib import pyplot as plt\n",
    "import skfem as fem\n",
    "from skfem.helpers import dot, grad \n",
    "\n",
    "@fem.BilinearForm\n",
    "def a(u, v, w):\n",
    "    # Return the integrand in the bilinear form a(u, v)\n",
    "    return dot(grad(u), grad(v)) \n",
    "\n",
    "def f(x):\n",
    "    return 1\n",
    "@fem.LinearForm\n",
    "def L(v, w):\n",
    "    x = w.x[0] # quadrature points for numerical integration\n",
    "    # Return the integrand in the linear form L(v) \n",
    "    return f(x) * v \n",
    "\n",
    "n = 4\n",
    "xs = np.linspace(0,1, n+1)\n",
    "\n",
    "mesh = fem.MeshLine(xs) \n",
    "basis = fem.Basis(mesh, fem.ElementLineP1())\n",
    "K = a.assemble(basis)\n",
    "F = L.assemble(basis)\n",
    "boundary_dofs = basis.get_dofs()\n",
    "u = fem.solve(*fem.condense(K, F, D=boundary_dofs))\n",
    "print(f'{u = }')"
   ]
  },
  {
   "cell_type": "markdown",
   "metadata": {},
   "source": [
    "Recall that the solution vector `u` contains the coefficients of the Galerkin solution $u_S$ in the global basis $\\phi_0, \\dots, \\phi_n$,\n",
    "defined on the mesh\n",
    "\n",
    "$$\n",
    "0 = x_0 < x_1 < \\dots < x_n = 1.\n",
    "$$\n",
    "\n",
    "\n",
    "(Here $\\phi_0$ and $\\phi_n$ are the auxiliary basis functions that do not vanish on the boundary.) Recall, furthermore, that the basis functions satisfy\n",
    "\n",
    "$$\n",
    "\\phi_j(x_k) = \\delta_{jk},\n",
    "$$\n",
    "\n",
    "and that this allows us to interpret the coefficients `u` as the point values of $u_S$ at the nodes $x_j$, $j=0,\\dots,n$.\n",
    "In order to fully understand `u` we need to understand the indexing that Scikit-fem is using."
   ]
  },
  {
   "cell_type": "code",
   "execution_count": null,
   "id": "52f52a4a",
   "metadata": {},
   "outputs": [],
   "source": [
    "print(f'Number of basis functions (before condensation): {basis.N = }')\n",
    "print(f'Number of elements (= n): {mesh.nelements = }')\n",
    "print(f'Indices of boundary nodes: {mesh.boundary_nodes()  = }')\n",
    "print(f'Indices of boundary nodes: {boundary_dofs.nodal_ix = }')\n",
    "print(f'Indices of interior nodes: {mesh.interior_nodes() = }')\n",
    "print(f'Locations of nodes: {mesh.p = }')"
   ]
  },
  {
   "cell_type": "markdown",
   "metadata": {},
   "source": [
    "We see that `u` is indexed in the natural inceasing order with `u[j]` corresponding to $u_S(x_j)$. \n",
    "We can plot $u_S$ simply as follows:"
   ]
  },
  {
   "cell_type": "code",
   "execution_count": null,
   "metadata": {},
   "outputs": [],
   "source": [
    "plt.plot(xs, u);"
   ]
  },
  {
   "cell_type": "markdown",
   "metadata": {},
   "source": [
    "We can use `mesh.p` instead of `xs`, however, we need to first remove its singleton dimension. Scikit-fem can solve multidimensional problems, and the seemingly useless dimension in `mesh.p` is needed to treat problems of any dimension in a systematic way. "
   ]
  },
  {
   "cell_type": "code",
   "execution_count": null,
   "metadata": {},
   "outputs": [],
   "source": [
    "# There are two easy ways to get rid of the extra dimension\n",
    "print(f'{mesh.p             = }')\n",
    "print(f'{np.squeeze(mesh.p) =  }')\n",
    "print(f'{mesh.p[0]          =  }')\n",
    "\n",
    "xs_mesh = mesh.p[0]\n",
    "print(f'{np.shape(mesh.p)  = }')\n",
    "print(f'{np.shape(xs_mesh) = }')\n",
    "\n",
    "plt.plot(xs_mesh, u)\n",
    "plt.gca().set_xticks(xs_mesh)\n",
    "plt.grid(axis='x');"
   ]
  },
  {
   "cell_type": "markdown",
   "metadata": {},
   "source": [
    "# Quadrature points\n",
    "\n",
    "Let's have a closer look at the last parameter `w` of forms and functionals. \n",
    "We have already seen that it contains the array `w.x` of quadrature points for numerical integration.\n",
    "Like `mesh.p` this array has a singleton dimension (that is again needed to handle problems of any dimension)."
   ]
  },
  {
   "cell_type": "code",
   "execution_count": null,
   "metadata": {},
   "outputs": [],
   "source": [
    "@fem.Functional\n",
    "def print_info(w):\n",
    "    print(f'{w.x             = }')\n",
    "    print(f'{np.squeeze(w.x) =   }')\n",
    "    print(f'{w.x[0]          =  }')        \n",
    "    return 0\n",
    "print_info.assemble(fem.Basis(fem.MeshLine([0,1]), fem.ElementLineP1()));"
   ]
  },
  {
   "cell_type": "code",
   "execution_count": null,
   "metadata": {},
   "outputs": [],
   "source": [
    "@fem.Functional\n",
    "def print_info(w):\n",
    "    print(str(w.x[0]))\n",
    "    return 0\n",
    "print_info.assemble(fem.Basis(fem.MeshLine([0,1,2]), fem.ElementLineP1()));"
   ]
  },
  {
   "cell_type": "markdown",
   "metadata": {},
   "source": [
    "We see that `w.x` is essentially a two dimensional array. Its rows give the quadrature points in each element. \n",
    "The only correct way to remove the singleton dimension is to use `w.x[0]`, since [squeeze](https://numpy.org/doc/stable/reference/generated/numpy.squeeze.html) removes all singleton dimensions and this will remove two dimensions in the corner case where the mesh has a single element.  \n",
    "\n",
    "Scikit-fem uses the [Gaussian quadrature](https://en.wikipedia.org/wiki/Gaussian_quadrature).\n",
    "The number of quadrature points depends on the degree of basis functions. Two points are used for the P1 basis, and the corresponding numerical integration yields an exact result for polynomials of degree 3 or less. \n",
    "\n",
    "The Gauss-Legendre quadrature is defined on the interval $[-1,1]$. To apply it on an interval $[a,b]$ we need to map quadrature points $\\xi_1, \\dots, \\xi_K$ given on $[-1,1]$ to the corresponding quadrature points $\\tilde \\xi_1, \\dots, \\tilde \\xi_K$ on $[a,b]$ by using an affine transformation. The transformation is given by the [change of interval](https://en.wikipedia.org/wiki/Gaussian_quadrature#Change_of_interval) formula\n",
    "\n",
    "$$\n",
    "\\tilde \\xi_k = \\frac{b - a}2 \\xi_k + \\frac{a + b}2, \\quad k = 1,\\dots, K.\n",
    "$$\n",
    "\n",
    "\n",
    "The quadature points $\\xi_1, \\dots, \\xi_K$ can be obtained using [leggauss](https://numpy.org/doc/stable/reference/generated/numpy.polynomial.legendre.leggauss.html). For $K=2$,\n",
    "\n",
    "$$\n",
    "\\xi_1 = -\\frac 1{\\sqrt 3}, \\quad \\xi_2 = \\frac 1{\\sqrt 3}.\n",
    "$$"
   ]
  },
  {
   "cell_type": "code",
   "execution_count": null,
   "metadata": {},
   "outputs": [],
   "source": [
    "from numpy.polynomial.legendre import leggauss\n",
    "\n",
    "xis, _ = leggauss(2)\n",
    "def change_of_interval(xi, a, b):\n",
    "    return (b - a)/2 * xi + (a + b)/2\n",
    "\n",
    "print(f'Quadrature points on [0,1]: {change_of_interval(xis, 0, 1)}')\n",
    "print(f'Quadrature points on [1,2]: {change_of_interval(xis, 1, 2)}')"
   ]
  },
  {
   "cell_type": "markdown",
   "metadata": {},
   "source": [
    "# Mesh refinement\n",
    "\n",
    "Given a mesh, we can create a finer mesh containing the points of the original mesh."
   ]
  },
  {
   "cell_type": "code",
   "execution_count": null,
   "metadata": {},
   "outputs": [],
   "source": [
    "mesh_finer = mesh.refined(1)\n",
    "xs_mesh_finer = mesh_finer.p[0]\n",
    "print(f'{mesh_finer.nelements = }')\n",
    "print(f'{xs_mesh_finer = }')\n",
    "plt.plot(xs_mesh_finer, np.zeros_like(xs_mesh_finer), 'ob', label='finer')\n",
    "plt.plot(xs_mesh, np.zeros_like(xs_mesh), '.r', label='original')\n",
    "plt.legend();"
   ]
  },
  {
   "cell_type": "markdown",
   "metadata": {},
   "source": [
    "The mesh points are not in the increasing order, and we need to be careful with indices. Subtleties with indexing can not be avoided in the case of higher order basis functions or higher dimensional problems. Let's solve the Poisson problem in the finer mesh."
   ]
  },
  {
   "cell_type": "code",
   "execution_count": null,
   "metadata": {},
   "outputs": [],
   "source": [
    "basis_finer = fem.Basis(mesh_finer, fem.ElementLineP1())\n",
    "u_finer = fem.solve(*fem.condense(\n",
    "    a.assemble(basis_finer), \n",
    "    L.assemble(basis_finer), \n",
    "    D=basis_finer.get_dofs()))\n",
    "\n",
    "ix = np.argsort(xs_mesh_finer)\n",
    "plt.plot(xs_mesh_finer[ix], u_finer[ix])\n",
    "plt.gca().set_xticks(xs_mesh_finer)\n",
    "plt.grid(axis='x');"
   ]
  },
  {
   "cell_type": "markdown",
   "metadata": {},
   "source": [
    "# P2 finite element\n",
    "\n",
    "The P2 basis functions on the reference domain $[0,1]$ give a basis of $\\mathbb P_2(0,1)$.\n",
    "We will plot them using Scikit-fem, but let us first plot the P1 basis functions that we already familiar with."
   ]
  },
  {
   "cell_type": "code",
   "execution_count": null,
   "metadata": {},
   "outputs": [],
   "source": [
    "mesh_ref = fem.MeshLine([0,1]) \n",
    "xs_mesh_ref = mesh_ref.p[0]\n",
    "print(f'{xs_mesh_ref = }')\n",
    "basis_ref_P1 = fem.Basis(mesh_ref, fem.ElementLineP1())\n",
    "for j in range(basis_ref_P1.N):\n",
    "    u = np.zeros(basis_ref_P1.N) \n",
    "    u[j] = 1\n",
    "    plt.plot(xs_mesh_ref, u, label=f'$\\psi_{j}$')\n",
    "plt.legend();"
   ]
  },
  {
   "cell_type": "markdown",
   "metadata": {},
   "source": [
    "Plotting the P2 basis functions is harder. As they are second order polynomials, we can not capture their features using `mesh_ref` that consists of only two points. We can plot them in a finer mesh by using mesh refinement, implemented by `refinterp`. This method refines a mesh and returns the point values of a function, given in a basis over the original mesh, at the nodes of the refined mesh. These point values correspond to coefficients in the P1 basis of the refined mesh, regardless whether the original basis is P1 or not.  "
   ]
  },
  {
   "cell_type": "code",
   "execution_count": null,
   "metadata": {},
   "outputs": [],
   "source": [
    "basis_ref_P2 = fem.Basis(mesh_ref, fem.ElementLineP2())\n",
    "u = np.zeros(basis_ref_P2.N) \n",
    "u[0] = 1 # coefficients of the zeroth basis function\n",
    "mesh_plot, u_plot = basis_ref_P2.refinterp(u, nrefs=7)\n",
    "xs_mesh_plot = mesh_plot.p[0]\n",
    "ix = np.argsort(xs_mesh_plot)\n",
    "plt.plot(xs_mesh_plot[ix], u_plot[ix])\n",
    "print(f'{mesh_plot.nelements = }')\n",
    "print(f'{np.size(u_plot) = }')"
   ]
  },
  {
   "cell_type": "markdown",
   "metadata": {},
   "source": [
    "We can plot the P2 basis functions in arbitrary points by using `probes`. This creates such a matrix that applying it to a vector of coefficients gives point values of the function corresponding to the coefficients. We also need the inverse operation of `squeeze` called [expand_dims](https://numpy.org/doc/stable/reference/generated/numpy.expand_dims.html). "
   ]
  },
  {
   "cell_type": "code",
   "execution_count": null,
   "metadata": {},
   "outputs": [],
   "source": [
    "xs_plot = np.linspace(0, 1)\n",
    "probe = basis_ref_P2.probes(np.expand_dims(xs_plot, axis=0))\n",
    "\n",
    "for j in range(basis_ref_P2.N):\n",
    "    u = np.zeros(basis_ref_P2.N) \n",
    "    u[j] = 1\n",
    "    u_plot = probe @ u\n",
    "    plt.plot(xs_plot, u_plot, label=f'$\\psi_{j}$')\n",
    "plt.legend();\n"
   ]
  },
  {
   "cell_type": "markdown",
   "metadata": {},
   "source": [
    "Let's also plot the global basis functions."
   ]
  },
  {
   "cell_type": "code",
   "execution_count": null,
   "metadata": {},
   "outputs": [],
   "source": [
    "n = 4\n",
    "xs = np.linspace(0,1, n+1)\n",
    "\n",
    "mesh = fem.MeshLine(xs) \n",
    "basis = fem.Basis(mesh, fem.ElementLineP2())\n",
    "\n",
    "print(f'Number of basis functions: {basis.N = }')\n",
    "\n",
    "xs_plot = np.linspace(0,1, 200)\n",
    "probe = basis.probes(np.expand_dims(xs_plot, axis=0))\n",
    "\n",
    "for j in range(basis.N):\n",
    "    u = np.zeros(basis.N) \n",
    "    u[j] = 1\n",
    "    u_plot = probe @ u\n",
    "    plt.plot(xs_plot, u_plot)\n",
    "\n",
    "plt.gca().set_xticks(xs_mesh)\n",
    "plt.grid(axis='x');"
   ]
  },
  {
   "cell_type": "markdown",
   "metadata": {},
   "source": [
    "# Comparison of solutions using P1 and P2 finite elements"
   ]
  },
  {
   "cell_type": "code",
   "execution_count": null,
   "metadata": {},
   "outputs": [],
   "source": [
    "n = 4\n",
    "xs = np.linspace(0,1, n+1)\n",
    "\n",
    "mesh = fem.MeshLine(xs) \n",
    "def solve_and_plot_poisson(elem):\n",
    "    basis = fem.Basis(mesh, elem)\n",
    "    u = fem.solve(*fem.condense(\n",
    "        a.assemble(basis), \n",
    "        L.assemble(basis), \n",
    "        D=basis.get_dofs()))\n",
    "    mesh_plot, u_plot = basis.refinterp(u, nrefs=5)\n",
    "    xs_mesh_plot = mesh_plot.p[0]\n",
    "    ix = np.argsort(xs_mesh_plot)\n",
    "    plt.plot(xs_mesh_plot[ix], u_plot[ix], label=f'P{elem.maxdeg}')\n",
    "\n",
    "solve_and_plot_poisson(fem.ElementLineP1())\n",
    "solve_and_plot_poisson(fem.ElementLineP2())\n",
    "plt.gca().set_xticks(xs)\n",
    "plt.grid(axis='x')\n",
    "plt.legend();"
   ]
  },
  {
   "cell_type": "code",
   "execution_count": null,
   "metadata": {},
   "outputs": [],
   "source": []
  }
 ],
 "metadata": {
  "interpreter": {
   "hash": "ad7b041df3eb63d09c3a966d529f6417e08720c4e2e436340bd2897bbac3600a"
  },
  "kernelspec": {
   "display_name": "Python 3.9.7 64-bit ('comp-methods': conda)",
   "language": "python",
   "name": "python3"
  },
  "language_info": {
   "codemirror_mode": {
    "name": "ipython",
    "version": 3
   },
   "file_extension": ".py",
   "mimetype": "text/x-python",
   "name": "python",
   "nbconvert_exporter": "python",
   "pygments_lexer": "ipython3",
   "version": "3.9.7"
  }
 },
 "nbformat": 4,
 "nbformat_minor": 2
}
