{
 "cells": [
  {
   "cell_type": "markdown",
   "id": "ab8fa790-72bc-4ffc-8bcb-37a6f68cf516",
   "metadata": {
    "slideshow": {
     "slide_type": "slide"
    }
   },
   "source": [
    "# Minimal distance between point and plane\n",
    "\n",
    "Consider the case that $V = \\mathbb R^3$ and $S$ is the plane spanned by the vectors\n",
    "\n",
    "$$\n",
    "b_0 = (-1,-1,0), \\quad b_1 = (1,0,1).\n",
    "$$\n",
    "\n",
    "Let $u = (0,0,3)$ and let us find the closest point $s \\in S$ to $u$. \n",
    "There are $c_0, c_1 \\in \\mathbb R$ such that  \n",
    "\n",
    "$$\n",
    "s = c_0 b_0 + c_1 b_1 = B c,\n",
    "$$\n",
    "\n",
    "where $B$ is the matrix with columns $b_0$ and $b_1$ and $c$ is the vector with entries $c_0$ and $c_1$. Perhaps the most natural way to find the closest point is to solve the least squares problem to minimize $|Bc - u|^2$."
   ]
  },
  {
   "cell_type": "code",
   "execution_count": null,
   "id": "aeca99fa-0117-4241-a388-ec35b6fb26f2",
   "metadata": {
    "init_cell": true,
    "scene__import": true,
    "slideshow": {
     "slide_type": "slide"
    }
   },
   "outputs": [],
   "source": [
    "import numpy as np\n",
    "from scipy import linalg as la"
   ]
  },
  {
   "cell_type": "code",
   "execution_count": null,
   "id": "c95925ff-b5c1-416f-a172-486bb37e44d3",
   "metadata": {
    "scene__min_dist": true
   },
   "outputs": [],
   "source": [
    "u = np.array([0, 0, 3], dtype=float)\n",
    "b0 = np.array([-1, -1, 0], dtype=float)\n",
    "b1 = np.array([1, 0, 1], dtype=float)\n",
    "\n",
    "B = np.stack((b0, b1), axis=-1)\n",
    "c, _, _, _ = la.lstsq(B, u)\n",
    "s = B @ c\n",
    "c"
   ]
  },
  {
   "cell_type": "code",
   "execution_count": null,
   "id": "30e4e869-23f1-4314-bc98-e8f238da5482",
   "metadata": {
    "init_cell": true,
    "scene__import": true,
    "slideshow": {
     "slide_type": "slide"
    }
   },
   "outputs": [],
   "source": [
    "from matplotlib import pyplot as plt\n",
    "\n",
    "import plot_vec3d as p3d\n",
    "def prettify():\n",
    "    p3d.plot_plane(s, c[0] * b0)\n",
    "    p3d.plot_vec(u - s, 'k--', o=s)\n",
    "    p3d.plot_coeffs(c, b0, b1, 'k:')\n",
    "    p3d.set_equal_aspect()\n",
    "    p3d.hide_ticks()"
   ]
  },
  {
   "cell_type": "code",
   "execution_count": null,
   "id": "2d4a164a-2c51-4636-a52c-d3c1ee6d75d2",
   "metadata": {
    "scene__min_dist": true,
    "slideshow": {
     "slide_type": "slide"
    }
   },
   "outputs": [],
   "source": [
    "plt.figure(dpi=120)\n",
    "plt.axes(projection='3d')\n",
    "p3d.plot_vec(u, 'b')\n",
    "p3d.plot_vec(s, 'g')\n",
    "p3d.plot_vec(b0, 'r')\n",
    "p3d.plot_vec(b1, 'r')\n",
    "prettify()"
   ]
  },
  {
   "cell_type": "markdown",
   "id": "fe8c207f",
   "metadata": {
    "slideshow": {
     "slide_type": "slide"
    }
   },
   "source": [
    "The finite element method leads to problems that are similar to the above distance minimization, but \n",
    "\n",
    "* $V$ will then be an infinite dimensional vector space\n",
    "* The corresponding least squares problem can not be solved directly\n",
    "\n",
    "However,\n",
    "\n",
    "* $S$ will still be finite dimensional\n",
    "* We will be able to form a finite dimensional system of linear equations \n",
    "\n",
    "As a predule, let's demonstrate this idea in the context of the above distance minimization."
   ]
  },
  {
   "cell_type": "markdown",
   "id": "0cabd11b-28b1-41ea-a38a-4fe1dcf5aba0",
   "metadata": {
    "slideshow": {
     "slide_type": "slide"
    }
   },
   "source": [
    "By the _orthogonality implies minimality_ lemma, the closest point $s$ is characterized by \n",
    "\n",
    "\\begin{align}\\tag{1}\n",
    "(s,v) = (u, v) \\quad \\text{for all $v \\in S$}.\n",
    "\\end{align}\n",
    "\n",
    "In particular, equation (1) needs to hold for $v=b_0$ and $v=b_1$.\n",
    "On the other hand, if (1) holds for $v=b_0$ and $v=b_1$ then it holds for all $v \\in S$ by taking linear combinations. Writing again $s = c_0 b_0 + c_1 b_1$, we get the following system of equations for vector $c$ with entries $c_0$ and $c_1$\n",
    "\n",
    "$$\n",
    "\\sum_{j=0}^1 c_j (b_j, b_i) = (u, b_i), \\quad i=0,1.\n",
    "$$\n",
    "\n",
    "We write $K$ for the matrix with entries $(b_i, b_j)$ and $F$ for the vector with entries $(u, b_i)$. Then (1) is equivalent with $Kc = F$."
   ]
  },
  {
   "cell_type": "code",
   "execution_count": null,
   "id": "e1d29890-464d-4de3-87c7-ee48a7b7fd2d",
   "metadata": {
    "scene__min_dist": true,
    "slideshow": {
     "slide_type": "slide"
    }
   },
   "outputs": [],
   "source": [
    "# Assemble matrix K\n",
    "K = np.zeros((2,2))\n",
    "for i in range(2):\n",
    "    for j in range(2):\n",
    "        K[i, j] = np.dot(B[:, i], B[:, j])\n",
    "\n",
    "# Assemble vector F\n",
    "F = np.zeros(2)\n",
    "for i in range(2):\n",
    "    F[i] = np.dot(u, B[:, i])\n",
    "    \n",
    "c_alt = la.solve(K, F)\n",
    "\n",
    "# Compare to the solution using least squares\n",
    "eps = np.finfo(float).eps # Machine epsilon\n",
    "la.norm(c_alt - c) / la.norm(c) < 10*eps\n"
   ]
  },
  {
   "cell_type": "markdown",
   "id": "84e29091-4695-4460-87de-016641538dc7",
   "metadata": {
    "slideshow": {
     "slide_type": "slide"
    },
    "tags": []
   },
   "source": [
    "# P1 finite element\n",
    "\n",
    "## Definition: P1 basis functions on reference domain \n",
    ">$$\n",
    "\\psi_0(x) \n",
    "= \\begin{cases}\n",
    "1 - x & x \\in [0,1]\n",
    "\\\\\n",
    "0 & \\text{otherwise},\n",
    "\\end{cases} \n",
    "\\qquad\n",
    "\\psi_1(x) \n",
    "= \\begin{cases}\n",
    "x & x \\in [0,1]\n",
    "\\\\\n",
    "0 & \\text{otherwise}.\n",
    "\\end{cases}  \n",
    "$$\n",
    "\n",
    "Here the reference domain means the unit interval $[0,1]$.\n",
    "Viewing $\\psi_0$ and $\\psi_1$ as functions on $[0,1]$, they form a basis of $\\mathbb P_1$.\n",
    "Indeed, the standard basis of $\\mathbb P_1$ is obtained as \n",
    "\n",
    "$$\n",
    "1 = \\psi_0(x) + \\psi_1(x), \\quad x = \\psi_1(x).\n",
    "$$\n"
   ]
  },
  {
   "cell_type": "code",
   "execution_count": null,
   "id": "bda0e896-0b6d-498e-8dda-f7f333816ee5",
   "metadata": {
    "scene__plot_basis": true,
    "slideshow": {
     "slide_type": "slide"
    }
   },
   "outputs": [],
   "source": [
    "def cutoff(x):\n",
    "    return (x > 0) * (x < 1)\n",
    "\n",
    "def psi0(x):\n",
    "    return cutoff(x) * (1 - x)\n",
    "def psi1(x):\n",
    "    return cutoff(x) * x\n",
    "\n",
    "xs_plot = np.linspace(-0.2,1.2, 200)\n",
    "plt.plot(xs_plot, psi0(xs_plot), 'r', label='$\\psi_0$')\n",
    "plt.plot(xs_plot, psi1(xs_plot), 'b--', label='$\\psi_1$')\n",
    "plt.legend();"
   ]
  },
  {
   "cell_type": "markdown",
   "id": "6d51f39e-7b61-4141-ab66-17c2769b9314",
   "metadata": {
    "slideshow": {
     "slide_type": "slide"
    }
   },
   "source": [
    "## Definition: local basis functions\n",
    ">Let \n",
    ">\n",
    ">\\begin{align*}\n",
    "0 = x_0 < x_1 < \\dots < x_n = 1,\n",
    "\\end{align*}\n",
    ">\n",
    "> write $I_e = [x_{e-1}, x_e]$, $e=1,\\dots,n$, and consider the affine function\n",
    ">\n",
    ">\\begin{align*}\n",
    "\\Phi_e : \\mathbb R \\to \\mathbb R, \\quad \\Phi_e(x) = \\frac{x - x_{e-1}}{x_e - x_{e-1}},\n",
    "\\end{align*}\n",
    ">\n",
    "> mapping $I_e$ to $[0,1]$. The local basis functions on $I_e$ are\n",
    ">\n",
    ">\\begin{align*}\n",
    "\\psi_{j,e}(x) = \\psi_j (\\Phi_e (x)), \\quad j = 0,1.\n",
    "\\end{align*}\n",
    "\n",
    "The linear interpolant $\\mathcal I_h u$ of a function $u \\in C(I)$, with $I = [0,1]$, can be written on $I_e \\subset I$ as \n",
    "\n",
    "$$\n",
    "\\mathcal I_h u(x) = u(x_{e-1}) \\psi_{0,e}(x) + u(x_{e}) \\psi_{1,e}(x).\n",
    "$$"
   ]
  },
  {
   "cell_type": "code",
   "execution_count": null,
   "id": "487a08b7",
   "metadata": {
    "scene__plot_basis": true,
    "slideshow": {
     "slide_type": "slide"
    }
   },
   "outputs": [],
   "source": [
    "n = 4\n",
    "xs = np.linspace(0,1, n+1)\n",
    "\n",
    "def Phi(psi, e, x):\n",
    "    return psi((x - xs[e-1]) / (xs[e] - xs[e-1]))\n",
    "\n",
    "xs_plot = np.linspace(0,1, 200)\n",
    "for e in range(1, n+1):\n",
    "    plt.plot(xs_plot, Phi(psi0, e, xs_plot), label=f'$\\psi_0^{e}$')\n",
    "plt.gca().set_xticks(xs)\n",
    "plt.legend();"
   ]
  },
  {
   "cell_type": "code",
   "execution_count": null,
   "id": "a7f3ace7-c400-482e-bf66-fd50572c7467",
   "metadata": {
    "scene__plot_basis": true,
    "slideshow": {
     "slide_type": "slide"
    }
   },
   "outputs": [],
   "source": [
    "for e in range(1, n+1):\n",
    "    plt.plot(xs_plot, Phi(psi1, e, xs_plot), label=f'$\\psi_1^{e}$')\n",
    "plt.gca().set_xticks(xs)\n",
    "plt.legend();"
   ]
  },
  {
   "cell_type": "code",
   "execution_count": null,
   "id": "5882dff8-1714-4eb9-bbf3-0cbc34f2f6c5",
   "metadata": {
    "scene__plot_basis": true,
    "slideshow": {
     "slide_type": "slide"
    }
   },
   "outputs": [],
   "source": [
    "def u(x):\n",
    "    return x * (1 - x)\n",
    "\n",
    "def I_loc(u, x):\n",
    "    out = np.zeros(np.shape(x))\n",
    "    for e in range(1, n+1):\n",
    "        out += u(xs[e-1])*Phi(psi0, e, x) + u(xs[e])*Phi(psi1, e, x)\n",
    "    return out\n",
    "\n",
    "plt.plot(xs_plot, u(xs_plot), label='u')\n",
    "plt.plot(xs_plot, I_loc(u, xs_plot), label='$I_h u$')\n",
    "plt.gca().set_xticks(xs)\n",
    "plt.grid(axis='x')\n",
    "plt.legend();"
   ]
  },
  {
   "cell_type": "markdown",
   "id": "b18790d6-82df-435f-95da-be918d725c01",
   "metadata": {
    "slideshow": {
     "slide_type": "slide"
    }
   },
   "source": [
    "Recall that the basis functions  $\\phi_i$ for the space $S = P_{h,0}^1$ were defined in the _P1 finite element space_ section of the lecture notes.\n",
    "They can be written as\n",
    "\n",
    "$$\n",
    "\\phi_i(x) = \\psi_{1,i}(x) + \\psi_{0,i+1}(x), \\quad i = 1,\\dots,n-1.\n",
    "$$\n",
    "\n",
    "For $u$ satisfying $u(0) = 0 = u(1)$ there holds\n",
    "\n",
    "$$\n",
    "\\mathcal I_h u(x) = \\sum_{i=1}^{n-1} u(x_i) \\phi_i(x).\n",
    "$$"
   ]
  },
  {
   "cell_type": "code",
   "execution_count": null,
   "id": "5d9a7491-ec84-4986-a967-dd1b3940e155",
   "metadata": {
    "scene__plot_basis": true,
    "slideshow": {
     "slide_type": "slide"
    }
   },
   "outputs": [],
   "source": [
    "def phi(i, x):\n",
    "    return Phi(psi1, i, x) + Phi(psi0, i+1, x)\n",
    "\n",
    "for i in range(1, n):\n",
    "    plt.plot(xs_plot, phi(i, xs_plot), label=f'$\\phi_{i}$')\n",
    "plt.gca().set_xticks(xs)\n",
    "plt.grid(axis='x')\n",
    "plt.legend();"
   ]
  },
  {
   "cell_type": "code",
   "execution_count": null,
   "id": "598a2d50-44ac-4775-9fad-e9d303aa3917",
   "metadata": {
    "scene__plot_basis": true,
    "slideshow": {
     "slide_type": "slide"
    }
   },
   "outputs": [],
   "source": [
    "def I(u, x):\n",
    "    out = np.zeros(np.shape(x))\n",
    "    for i in range(1, n):\n",
    "        out += u(xs[i]) * phi(i, x)\n",
    "    return out\n",
    "\n",
    "plt.plot(xs_plot, u(xs_plot), label='u')\n",
    "plt.plot(xs_plot, I(u, xs_plot), label='$I_h u$')\n",
    "plt.gca().set_xticks(xs)\n",
    "plt.grid(axis='x')\n",
    "plt.legend();"
   ]
  },
  {
   "cell_type": "markdown",
   "id": "3e863e13",
   "metadata": {
    "slideshow": {
     "slide_type": "slide"
    }
   },
   "source": [
    "# Implementation of the P1 finite element method\n",
    "\n",
    "Let us consider the bilinear and linear forms $a$ and $L$ defined in the _a boundary value problem_ section of the lecture notes, that is,\n",
    "\n",
    "$$\n",
    "a(u, v) = \\int_0^1 u'(x) v'(x) dx, \\quad L(v) = \\int_0^1 f(x) v(x) dx.\n",
    "$$\n",
    "\n",
    "Following the proof the _Galerkin solution_ theorem in the lecture notes, we define\n",
    "\n",
    "$$\n",
    "u_S = \\sum_{j=1}^{n-1} U_j \\phi_j, \n",
    "\\quad\n",
    "K_{ij} = a(\\phi_i, \\phi_j),\n",
    "\\quad\n",
    "F_i = L(\\phi_i), \n",
    "\\qquad i,j=1,\\dots,n-1,\n",
    "$$\n",
    "\n",
    "and write $U$ and $F$ for the vectors with elements $U_i$ and $F_i$, and $K$ for the matrix with elements $K_{ij}$."
   ]
  },
  {
   "cell_type": "markdown",
   "id": "4a0dd294-e813-4977-9810-7c949ed94987",
   "metadata": {
    "slideshow": {
     "slide_type": "slide"
    }
   },
   "source": [
    "The equation for the Galerkin solution \n",
    "\n",
    "$$\n",
    "a(u_S,v) = L(v) \\quad \\text{for all $v \\in S$}.\n",
    "$$\n",
    "\n",
    "is equivalent with $K U = F$."
   ]
  },
  {
   "cell_type": "markdown",
   "id": "a1599e01-4a7c-4ae9-838f-2cff740b6b22",
   "metadata": {
    "slideshow": {
     "slide_type": "slide"
    }
   },
   "source": [
    "Let us assemble the matrix $K$. As the global basis functions $\\phi_j$ are defined piecewisely on intervals $I_e$, we will consider each interval separately. On $I_e$ there holds\n",
    "\n",
    "$$\n",
    "\\phi_e(x) = \\psi_1^e(x), \\quad \\phi_{e-1}(x) = \\psi_0^e(x), \\quad \\phi_i(x) = 0, \\quad i \\ne e, e-1.\n",
    "$$\n",
    "\n",
    "Differentiating the local basis functions on $I_e$, we get \n",
    "\n",
    "$$\n",
    "\\phi_e'(x) = \\frac{1}{x_e - x_{e-1}}, \\quad \\phi_{e-1}'(x) =  \\frac{-1}{x_e - x_{e-1}}, \\quad \\phi_i'(x) = 0, \\quad i \\ne e, e-1.\n",
    "$$\n",
    "\n",
    "In order to handle the first and last interval in the same way as the rest, we introduce the auxiliary basis functions\n",
    "\n",
    "$$\n",
    "\\phi_0(x) = \\psi_{0,1}(x), \\quad \\phi_n(x) = \\psi_{1,n}(x).\n",
    "$$"
   ]
  },
  {
   "cell_type": "code",
   "execution_count": null,
   "id": "9da66c8e",
   "metadata": {
    "slideshow": {
     "slide_type": "slide"
    }
   },
   "outputs": [],
   "source": [
    "plt.plot(xs_plot, Phi(psi0, 1, xs_plot), label=f'$\\phi_0$')\n",
    "plt.plot(xs_plot, Phi(psi1, n, xs_plot), label=f'$\\phi_n$')\n",
    "plt.gca().set_xticks(xs)\n",
    "plt.grid(axis='x')\n",
    "plt.legend();"
   ]
  },
  {
   "cell_type": "code",
   "execution_count": null,
   "id": "ec798dd0-3363-4aab-8763-dfaeb8d67dff",
   "metadata": {
    "scene__fem": true,
    "slideshow": {
     "slide_type": "slide"
    },
    "tags": [
     "ActiveScene"
    ]
   },
   "outputs": [],
   "source": [
    "def assemble_K_demo(x):\n",
    "    n = np.size(x) - 1\n",
    "    K = np.zeros((n+1, n+1))\n",
    "    for e in range(1, n+1):\n",
    "        dx = x[e] - x[e-1]        # length of the interval I_e\n",
    "        dphis = [-1 / dx, 1 / dx] # phi_j' for j=e-1 and j=e \n",
    "        ix = [e - 1, e]           # indices of K that are affected by I_e\n",
    "        for i in range(2):\n",
    "            for j in range(2):\n",
    "                K[ix[i], ix[j]] += dphis[i] * dphis[j] * dx\n",
    "    return K \n",
    "\n",
    "K = assemble_K_demo(xs)\n",
    "# Condense K, that is, \n",
    "# throw away the values corresponding to the auxiliary functions\n",
    "K = K[1:-1,1:-1]\n",
    "print(K)"
   ]
  },
  {
   "cell_type": "markdown",
   "id": "4c3d83af-52af-442a-9641-12d8bbfff072",
   "metadata": {
    "slideshow": {
     "slide_type": "slide"
    }
   },
   "source": [
    "We turn to assembly of the vector $F$. We need to evaluate the integrals $(f, \\phi_j)$ numerically. Let us use the trapezium rule separately on each interval $I_e$:\n",
    "\n",
    "$$\n",
    "\\int_{I_e} f(x) \\phi_e(x) dx \\approx \\frac{x_e - x_{e-1}}{2} f(x_e),\n",
    "\\quad\n",
    "\\int_{I_e} f(x) \\phi_{e-1}(x) dx \\approx \\frac{x_e - x_{e-1}}{2} f(x_{e-1}),\n",
    "$$\n",
    "\n",
    "and\n",
    "\n",
    "$$\n",
    "\\int_{I_e} f(x) \\phi_{j}(x) dx = 0, \\quad j\\ne e, e-1.\n",
    "$$"
   ]
  },
  {
   "cell_type": "code",
   "execution_count": null,
   "id": "30860f1d-0bfe-4a02-865f-d057f96f6bf7",
   "metadata": {
    "scene__fem": true,
    "slideshow": {
     "slide_type": "slide"
    },
    "tags": [
     "ActiveScene"
    ]
   },
   "outputs": [],
   "source": [
    "def assemble_F_demo(x, f):\n",
    "    n = np.size(x) - 1\n",
    "    F = np.zeros(n+1)\n",
    "    for e in range(1, n+1):\n",
    "        dx = x[e] - x[e-1] \n",
    "        F[e]   += dx / 2 * f(x[e])\n",
    "        F[e-1] += dx / 2 * f(x[e-1])\n",
    "    return F\n",
    "\n",
    "def f(x):\n",
    "    return 1\n",
    "\n",
    "F = assemble_F_demo(xs, f)\n",
    "# Condense F\n",
    "F = F[1:-1] \n",
    "print(F)"
   ]
  },
  {
   "cell_type": "markdown",
   "id": "d309535b-3524-4fb1-ad14-5b08fde3418d",
   "metadata": {
    "slideshow": {
     "slide_type": "slide"
    }
   },
   "source": [
    "## Example: Poisson's equation in 1d with unit load\n",
    "\n",
    "Let us solve the problem\n",
    "\n",
    "$$\n",
    "\\begin{cases}\n",
    "-u'' = 1 & \\text{on $(0,1)$},\n",
    "\\\\\n",
    "u(0) = 0 = u(1).\n",
    "\\end{cases}\n",
    "$$"
   ]
  },
  {
   "cell_type": "code",
   "execution_count": null,
   "id": "a20df0ad-7e0e-4ec9-a5ae-f7020aab9093",
   "metadata": {
    "scene__fem": true,
    "tags": [
     "ActiveScene"
    ]
   },
   "outputs": [],
   "source": [
    "def assemble_poisson_demo(xs):\n",
    "    K = assemble_K_demo(xs)\n",
    "    K = K[1:-1,1:-1]\n",
    "    F = assemble_F_demo(xs, f)\n",
    "    F = F[1:-1] \n",
    "    return K, F\n",
    "\n",
    "def solve_poisson_demo(xs):\n",
    "    K, F = assemble_poisson_demo(xs)\n",
    "    u = np.zeros(np.size(xs))\n",
    "    u[1:-1] = la.solve(K, F)\n",
    "    return u"
   ]
  },
  {
   "cell_type": "markdown",
   "id": "908934d8",
   "metadata": {
    "slideshow": {
     "slide_type": "slide"
    }
   },
   "source": [
    "The solution vector `u` contains the coefficients of the Galerkin solution $u_S$ in the global basis $\\phi_0, \\dots, \\phi_n$.\n",
    "Recall that the global basis functions satisfy \n",
    "\n",
    "$$\n",
    "\\phi_j(x_k) = \\delta_{jk} = \\begin{cases}\n",
    "1 & j=k,\n",
    "\\\\\n",
    "0 & \\text{otherwise}.\n",
    "\\end{cases}\n",
    "$$\n",
    "\n",
    "Hence we can interpret the coefficients `u` as the point values of $u_S$ at the nodes $x_j$, $j=0,\\dots,n$."
   ]
  },
  {
   "cell_type": "code",
   "execution_count": null,
   "id": "a8436024-898d-4b72-b4a1-04dce4aea542",
   "metadata": {
    "scene__fem": true,
    "slideshow": {
     "slide_type": "slide"
    },
    "tags": [
     "ActiveScene"
    ]
   },
   "outputs": [],
   "source": [
    "plt.plot(xs, solve_poisson_demo(xs), label='$u_S$ coarse')\n",
    "xs_fine = np.linspace(0,1)\n",
    "plt.plot(xs_fine, solve_poisson_demo(xs_fine), label='$u_S$ fine')\n",
    "plt.gca().set_xticks(xs)\n",
    "plt.grid(axis='x')\n",
    "plt.legend();"
   ]
  },
  {
   "cell_type": "markdown",
   "id": "5578a0d2-87b9-440c-bc6c-b25483503b7c",
   "metadata": {
    "slideshow": {
     "slide_type": "slide"
    }
   },
   "source": [
    "# Sparsity\n",
    "\n",
    "Most of the elements of $K$ vanish, that is, $K$ is [sparse](https://en.wikipedia.org/wiki/Sparse_matrix). (In fact, in this particular case, $K$ is [tridiagonal](https://en.wikipedia.org/wiki/Tridiagonal_matrix).)\n",
    "Solving the system $KU = F$ is typically the most costly part of the finite element method, and efficiency of the method boils down to this system being sparse."
   ]
  },
  {
   "cell_type": "code",
   "execution_count": null,
   "id": "98af2b91-1d59-4203-b945-762a810b51ea",
   "metadata": {
    "scene__fem": true,
    "tags": [
     "ActiveScene"
    ]
   },
   "outputs": [],
   "source": [
    "K, F = assemble_poisson_demo(xs_fine)\n",
    "K"
   ]
  },
  {
   "cell_type": "code",
   "execution_count": null,
   "id": "f8cb8d27-c01b-4261-9a3b-d4a070e436f5",
   "metadata": {
    "scene__fem": true,
    "slideshow": {
     "slide_type": "slide"
    },
    "tags": [
     "ActiveScene"
    ]
   },
   "outputs": [],
   "source": [
    "plt.spy(K);"
   ]
  },
  {
   "cell_type": "markdown",
   "id": "ca3c40eb-7d6f-4ca6-8085-90e94c58f431",
   "metadata": {
    "slideshow": {
     "slide_type": "fragment"
    }
   },
   "source": [
    "We could (and should) reimplement `assemble_K_demo` using the [sparse matrix package](https://docs.scipy.org/doc/scipy/reference/sparse.html) of SciPy."
   ]
  },
  {
   "cell_type": "markdown",
   "id": "36ab5221-d3be-49d5-b0cd-4a1c810c43bf",
   "metadata": {
    "slideshow": {
     "slide_type": "slide"
    }
   },
   "source": [
    "# Implementation using Scikit-fem\n",
    "\n",
    "Let us now assemble the linear system for the same problem by using the Scikit-fem package."
   ]
  },
  {
   "cell_type": "code",
   "execution_count": null,
   "id": "02fd6f9e-0109-4703-b675-22e2ea587224",
   "metadata": {
    "init_cell": true,
    "scene__import": true
   },
   "outputs": [],
   "source": [
    "import skfem as fem\n",
    "from skfem.helpers import dot, grad # helpers make forms look nice"
   ]
  },
  {
   "cell_type": "code",
   "execution_count": null,
   "id": "aa5bff74-679f-4e5a-a03c-674c54a9117c",
   "metadata": {
    "scene__fem": true,
    "slideshow": {
     "slide_type": "slide"
    },
    "tags": [
     "ActiveScene"
    ]
   },
   "outputs": [],
   "source": [
    "@fem.BilinearForm\n",
    "def a(u, v, w):\n",
    "    # Return the integrand in the bilinear form a(u, v)\n",
    "    # using a notation that works in all dimensions\n",
    "    return dot(grad(u), grad(v)) \n",
    "\n",
    "@fem.LinearForm\n",
    "def L(v, w):\n",
    "    x = w.x[0] # quadrature points for numerical integration\n",
    "    # Return the integrand in the linear form L(v) \n",
    "    return f(x) * v # use the same f as before\n",
    "\n",
    "def assemble_poisson(xs):    \n",
    "    mesh = fem.MeshLine(xs) \n",
    "    basis = fem.Basis(mesh, fem.ElementLineP1())\n",
    "    K = a.assemble(basis)\n",
    "    F = L.assemble(basis)\n",
    "    # Empty call to get_dofs() matches all boundary degrees-of-freedom\n",
    "    boundary_dofs = basis.get_dofs()\n",
    "    K, F, _, _ = fem.condense(K, F, D=boundary_dofs)\n",
    "    return K, F"
   ]
  },
  {
   "cell_type": "code",
   "execution_count": null,
   "id": "0aa8f826-42c9-4893-bf76-0179b0d76c57",
   "metadata": {
    "scene__fem": true,
    "slideshow": {
     "slide_type": "slide"
    },
    "tags": [
     "ActiveScene"
    ]
   },
   "outputs": [],
   "source": [
    "K, F = assemble_poisson(xs)\n",
    "# K is a sparse matrix, convert it to a standard matrix\n",
    "print(K.toarray())  \n",
    "print(F)"
   ]
  },
  {
   "cell_type": "markdown",
   "id": "26fdf06c",
   "metadata": {
    "slideshow": {
     "slide_type": "slide"
    }
   },
   "source": [
    "We get the same linear system as before. Let's check that this is also the case when we use a finer mesh."
   ]
  },
  {
   "cell_type": "code",
   "execution_count": null,
   "id": "889076a4-dcb4-4998-a0d7-088737a4aa87",
   "metadata": {
    "scene__fem": true,
    "tags": [
     "ActiveScene"
    ]
   },
   "outputs": [],
   "source": [
    "K1, F1 = assemble_poisson_demo(xs_fine)\n",
    "K2, F2 = assemble_poisson(xs_fine)\n",
    "print(la.norm(K1 - K2))\n",
    "print(la.norm(F1 - F2))"
   ]
  },
  {
   "cell_type": "markdown",
   "id": "9afcdf4b",
   "metadata": {
    "slideshow": {
     "slide_type": "slide"
    }
   },
   "source": [
    "We can solve the Poisson problem in even briefer way using Scikit-fem."
   ]
  },
  {
   "cell_type": "code",
   "execution_count": null,
   "id": "a360e9a7",
   "metadata": {},
   "outputs": [],
   "source": [
    "from skfem.models.poisson import laplace, unit_load\n",
    "import skfem.visuals.matplotlib as fem_plt\n",
    "\n",
    "mesh = fem.MeshLine(xs) \n",
    "basis = fem.Basis(mesh, fem.ElementLineP1())\n",
    "K = laplace.assemble(basis)\n",
    "F = unit_load.assemble(basis)\n",
    "fem_plt.plot(mesh, fem.solve(*fem.condense(K, F, D=basis.get_dofs())));"
   ]
  },
  {
   "cell_type": "markdown",
   "id": "322cd098",
   "metadata": {
    "slideshow": {
     "slide_type": "slide"
    }
   },
   "source": [
    "# Computational study of convergence\n",
    "\n",
    "Let $I = [0,1]$ and let $u$ solve the problem \n",
    "\n",
    "$$\n",
    "\\begin{cases}\n",
    "-u'' = f & \\text{on $I$},\n",
    "\\\\\n",
    "u(0) = 0 = u(1),\n",
    "\\end{cases}\n",
    "$$\n",
    "\n",
    "and consider the corresponding Galerkin solution $u_S$ computed in a mesh\n",
    "\n",
    "$$\n",
    "0 = x_0 < x_1 < \\dots < x_n = 1.\n",
    "$$ \n",
    "\n",
    "It is typical to think that $u_S$ is parametrized by the mesh constant\n",
    "\n",
    "$$\n",
    "h = \\max_{e=1,\\dots,n} |x_e - x_{e-1}|,\n",
    "$$\n",
    "\n",
    "and write $u_h = u_S$. "
   ]
  },
  {
   "cell_type": "markdown",
   "id": "924e858e-4a4f-4722-b374-9c7d5f4d86ac",
   "metadata": {
    "slideshow": {
     "slide_type": "slide"
    }
   },
   "source": [
    "We will study computationally how the error $u_h - u$ converges in the space $L^2(I)$ as $h \\to 0$.\n",
    "In order to do this, we need to set up the problem so that we know the exact solution $u$.\n",
    "A way to achieve this is to choose first $u$ satisfying the boundary conditions and then compute $f$.\n",
    "\n",
    "We set \n",
    "\n",
    "$$\n",
    "u(x) = \\sin(\\pi x).\n",
    "$$\n",
    "\n",
    "Then $u(0) = u(1) = 0$ and \n",
    "\n",
    "$$\n",
    "-u''(x) = \\pi^2 \\sin(\\pi x) =: f(x). \n",
    "$$"
   ]
  },
  {
   "cell_type": "code",
   "execution_count": null,
   "id": "336e9197",
   "metadata": {
    "slideshow": {
     "slide_type": "slide"
    }
   },
   "outputs": [],
   "source": [
    "def u_exact(x):\n",
    "    return np.sin(np.pi * x)\n",
    "\n",
    "def f(x):\n",
    "    return np.pi**2 * np.sin(np.pi * x)\n",
    "\n",
    "# We need to redefine this, as we didn't parametrize f\n",
    "def solve_poisson_demo(xs):\n",
    "    K = assemble_K_demo(xs)\n",
    "    K = K[1:-1,1:-1]\n",
    "    F = assemble_F_demo(xs, f)\n",
    "    F = F[1:-1] \n",
    "    u = np.zeros(np.size(xs))\n",
    "    u[1:-1] = la.solve(K, F)\n",
    "    return u"
   ]
  },
  {
   "cell_type": "code",
   "execution_count": null,
   "id": "a8db7873",
   "metadata": {
    "slideshow": {
     "slide_type": "slide"
    }
   },
   "outputs": [],
   "source": [
    "ns = [4, 8]\n",
    "for n in ns:\n",
    "    xs, h = np.linspace(0,1, n+1, retstep=True)\n",
    "    u = solve_poisson_demo(xs)\n",
    "    plt.plot(xs, u, label=f'{h = }')\n",
    "xs_plot = np.linspace(0, 1)\n",
    "plt.plot(xs_plot, u_exact(xs_plot), label='true')\n",
    "plt.legend();"
   ]
  },
  {
   "cell_type": "markdown",
   "id": "ece0ff69",
   "metadata": {
    "slideshow": {
     "slide_type": "slide"
    }
   },
   "source": [
    "Recalling that on $I_e$\n",
    "\n",
    "$$\n",
    "\\phi_e(x) = \\psi_1^e(x), \\quad \\phi_{e-1}(x) = \\psi_0^e(x), \\quad \\phi_i(x) = 0, \\quad i \\ne e, e-1,\n",
    "$$\n",
    "\n",
    "we have\n",
    "\n",
    "$$\n",
    "\\|u_h - u\\|^2 \n",
    "= \\sum_{e=1}^n \\int_{I_e} |u_h(x) - u(x)|^2 dx\n",
    "= \\sum_{e=1}^n \\int_{I_e} |U_{e} \\psi_1^e(x) + U_{e-1} \\psi_0^e(x) - u(x)|^2 dx.\n",
    "$$\n",
    "\n",
    "Evaluating the integral using the trapezium rule yields\n",
    "\n",
    "$$\n",
    "\\int_{I_e} |U_{e} \\psi_1^e(x) + U_{e-1} \\psi_0^e(x) - u(x)|^2 dx\n",
    "\\approx \\frac{x_e - x_{e-1}}{2} \\left( |U_{e-1} - u(x_{e-1})|^2 + |U_{e} - u(x_{e})|^2 \\right).\n",
    "$$"
   ]
  },
  {
   "cell_type": "markdown",
   "id": "69603fdb",
   "metadata": {
    "slideshow": {
     "slide_type": "slide"
    }
   },
   "source": [
    "In principle, we could expand the square and compute the terms\n",
    "\n",
    "$$\n",
    "U_i U_j \\int_{I_e} \\psi_1^i(x) \\psi_0^j(x) dx, \\quad i,j=e,e-1\n",
    "$$\n",
    "\n",
    "analytically. In practice, we can use a numerical integration method, that yields an exact result for polynomials of degree 2 or less, to achieve the same accuracy as the analytic computation. Here we will use the trapezium rule for simplicity. "
   ]
  },
  {
   "cell_type": "code",
   "execution_count": null,
   "id": "0e5af1be",
   "metadata": {
    "slideshow": {
     "slide_type": "slide"
    }
   },
   "outputs": [],
   "source": [
    "def error_sq_demo(x, u):\n",
    "    '''Squared L2 error'''\n",
    "    n = np.size(xs) - 1\n",
    "    error = 0\n",
    "    for e in range(1, n+1):\n",
    "        dx = x[e] - x[e - 1]\n",
    "        error += dx / 2 * ((u[e-1] - u_exact(x[e-1]))**2 + (u[e] - u_exact(x[e]))**2)\n",
    "    return error\n",
    "\n",
    "ns = [2**n for n in range(2,6)]\n",
    "N = len(ns)\n",
    "errs_demo = np.zeros(N)\n",
    "hs = np.zeros(N)\n",
    "for i in range(N):\n",
    "    n = ns[i]\n",
    "    xs, h = np.linspace(0,1, n+1, retstep=True)\n",
    "    u = solve_poisson_demo(xs)\n",
    "    hs[i] = h\n",
    "    errs_demo[i] = np.sqrt(error_sq_demo(xs, u))"
   ]
  },
  {
   "cell_type": "code",
   "execution_count": null,
   "id": "290018aa",
   "metadata": {
    "slideshow": {
     "slide_type": "slide"
    }
   },
   "outputs": [],
   "source": [
    "plt.loglog(hs, errs_demo, '-o', label='error')\n",
    "plt.loglog(hs, hs**2, label='$h^2$')\n",
    "plt.legend();"
   ]
  },
  {
   "cell_type": "markdown",
   "id": "b90bcec6",
   "metadata": {
    "slideshow": {
     "slide_type": "slide"
    }
   },
   "source": [
    "# Evaluation of error using Scikit-fem"
   ]
  },
  {
   "cell_type": "code",
   "execution_count": null,
   "id": "e9995423",
   "metadata": {},
   "outputs": [],
   "source": [
    "# We need to redefine this, as we didn't parametrize f\n",
    "@fem.LinearForm\n",
    "def L(v, w):\n",
    "    x = w.x[0] # quadrature points for numerical integration\n",
    "    # Return the integrand in the linear form L(v) \n",
    "    return f(x) * v \n",
    "\n",
    "@fem.Functional\n",
    "def error_sq(w):\n",
    "    x = w.x[0] \n",
    "    uh = w['uh'] # uh is given in the assemble call below\n",
    "    # Return the integrand in the squared L2 error\n",
    "    return (uh - u_exact(x))**2\n",
    "\n",
    "def error_poisson(xs):    \n",
    "    mesh = fem.MeshLine(xs) \n",
    "    basis = fem.Basis(mesh, fem.ElementLineP1())\n",
    "    K = a.assemble(basis)\n",
    "    F = L.assemble(basis)\n",
    "    boundary_dofs = basis.get_dofs()\n",
    "    u = fem.solve(*fem.condense(K, F, D=boundary_dofs))\n",
    "    return np.sqrt(error_sq.assemble(basis, uh=basis.interpolate(u)))\n",
    "\n",
    "errs = np.array([\n",
    "    error_poisson(np.linspace(0,1, n+1)) for n in ns])"
   ]
  },
  {
   "cell_type": "code",
   "execution_count": null,
   "id": "31107536",
   "metadata": {
    "slideshow": {
     "slide_type": "slide"
    }
   },
   "outputs": [],
   "source": [
    "plt.loglog(hs, errs, 'ob-', label='skfem')\n",
    "plt.loglog(hs, errs_demo, '.r--', label='demo')\n",
    "plt.legend();"
   ]
  },
  {
   "cell_type": "markdown",
   "id": "979a56d6",
   "metadata": {
    "slideshow": {
     "slide_type": "fragment"
    }
   },
   "source": [
    "The two errors are slightly different since Scikit-fem is using more accurate numerical integration method than the trapezium rule. "
   ]
  },
  {
   "cell_type": "code",
   "execution_count": null,
   "id": "74c509ad-2e77-4289-b26d-586b3296cbf5",
   "metadata": {
    "slideshow": {
     "slide_type": "slide"
    }
   },
   "outputs": [],
   "source": []
  }
 ],
 "metadata": {
  "celltoolbar": "Slideshow",
  "interpreter": {
   "hash": "ad7b041df3eb63d09c3a966d529f6417e08720c4e2e436340bd2897bbac3600a"
  },
  "kernelspec": {
   "display_name": "Python 3 (ipykernel)",
   "language": "python",
   "name": "python3"
  },
  "language_info": {
   "codemirror_mode": {
    "name": "ipython",
    "version": 3
   },
   "file_extension": ".py",
   "mimetype": "text/x-python",
   "name": "python",
   "nbconvert_exporter": "python",
   "pygments_lexer": "ipython3",
   "version": "3.9.7"
  },
  "scenes_data": {
   "active_scene": "fem",
   "init_scene": "import",
   "scenes": [
    "import",
    "min_dist",
    "plot_basis",
    "fem"
   ]
  }
 },
 "nbformat": 4,
 "nbformat_minor": 5
}
